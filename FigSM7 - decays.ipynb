{
 "cells": [
  {
   "cell_type": "markdown",
   "id": "0b3366ef-660a-40a7-a966-2e77584e4253",
   "metadata": {},
   "source": [
    "# Code for Fig. SM 7"
   ]
  },
  {
   "cell_type": "code",
   "execution_count": 1,
   "id": "5745e2d6-816a-4237-9036-dd9cd9370e83",
   "metadata": {
    "execution": {
     "iopub.execute_input": "2022-02-03T13:14:02.181477Z",
     "iopub.status.busy": "2022-02-03T13:14:02.181477Z",
     "iopub.status.idle": "2022-02-03T13:14:03.326549Z",
     "shell.execute_reply": "2022-02-03T13:14:03.326549Z",
     "shell.execute_reply.started": "2022-02-03T13:14:02.181477Z"
    },
    "tags": []
   },
   "outputs": [],
   "source": [
    "%load_ext autoreload\n",
    "%autoreload 1\n",
    "%aimport general_functions"
   ]
  },
  {
   "cell_type": "code",
   "execution_count": 2,
   "id": "36460638-b3ad-443a-8da5-d0f584069031",
   "metadata": {
    "execution": {
     "iopub.execute_input": "2022-02-03T13:14:03.328549Z",
     "iopub.status.busy": "2022-02-03T13:14:03.327549Z",
     "iopub.status.idle": "2022-02-03T13:14:03.405591Z",
     "shell.execute_reply": "2022-02-03T13:14:03.405591Z",
     "shell.execute_reply.started": "2022-02-03T13:14:03.328549Z"
    },
    "tags": []
   },
   "outputs": [],
   "source": [
    "import numpy as np\n",
    "import matplotlib.pyplot as plt\n",
    "from tqdm.auto import tqdm\n",
    "from joblib import Parallel, delayed\n",
    "from scipy.interpolate import CubicSpline\n",
    "import copy\n",
    "\n",
    "from general_functions import (complete_dynamics, compute_shift)"
   ]
  },
  {
   "cell_type": "markdown",
   "id": "8b1b8bd4-5627-47ed-9607-5177c5ffdfad",
   "metadata": {
    "tags": []
   },
   "source": [
    "## Single layer"
   ]
  },
  {
   "cell_type": "markdown",
   "id": "fe74ef19-36b2-4f4b-9c3d-c6e5223e3e83",
   "metadata": {},
   "source": [
    "### Individual"
   ]
  },
  {
   "cell_type": "code",
   "execution_count": 23,
   "id": "27d14f2d-57f1-4c71-9e92-d9eee80464b4",
   "metadata": {
    "execution": {
     "iopub.execute_input": "2022-02-03T13:08:50.337726Z",
     "iopub.status.busy": "2022-02-03T13:08:50.337726Z",
     "iopub.status.idle": "2022-02-03T13:08:50.352715Z",
     "shell.execute_reply": "2022-02-03T13:08:50.352715Z",
     "shell.execute_reply.started": "2022-02-03T13:08:50.337726Z"
    },
    "tags": []
   },
   "outputs": [],
   "source": [
    "pol_lat = np.array([[0, 1, 0]]).T\n",
    "pol_emi = [np.array([[1, 1, 0]] / np.sqrt(3)).T]\n",
    "\n",
    "d = 1 # Wave-lenght of transition\n",
    "lambda0 = d / 0.3 # Wave-lenght of transition\n",
    "k0 = 2 * np.pi / lambda0\n",
    "\n",
    "border = 10\n",
    "max_gamma = 10\n",
    "\n",
    "N_x = 60\n",
    "N_y = N_x\n",
    "x_pos = np.arange(0, N_x) - N_x / 2 + d / 2\n",
    "y_pos = np.arange(0, N_y) - N_y / 2 + d / 2\n",
    "x_pos, y_pos = np.meshgrid(x_pos, y_pos)\n",
    "x_pos = x_pos.flatten()\n",
    "y_pos = y_pos.flatten()\n",
    "z_pos = np.zeros(len(x_pos))\n",
    "r_pos = [x_pos, y_pos, z_pos]\n",
    "\n",
    "gamma_emi = 0.002\n",
    "omega_emi = -0.999  # For d / lambda_0 = 0.3\n",
    "\n",
    "dt = 2e-3 / gamma_emi\n",
    "tf = dt * 2 ** 10\n",
    "\n",
    "psi0 = np.zeros(len(x_pos) + 1)\n",
    "psi0[-1] = 1\n",
    "\n",
    "emitter = [[0, 0, 0]]"
   ]
  },
  {
   "cell_type": "code",
   "execution_count": 24,
   "id": "116589d9-160d-4fa7-8cfa-d41707301ec3",
   "metadata": {
    "execution": {
     "iopub.execute_input": "2022-02-03T13:08:51.040576Z",
     "iopub.status.busy": "2022-02-03T13:08:51.039574Z",
     "iopub.status.idle": "2022-02-03T13:09:21.199640Z",
     "shell.execute_reply": "2022-02-03T13:09:21.199640Z",
     "shell.execute_reply.started": "2022-02-03T13:08:51.040576Z"
    },
    "tags": []
   },
   "outputs": [],
   "source": [
    "results = complete_dynamics([x_pos, y_pos, z_pos], k0, pol_lat, dt, tf, psi0, \n",
    "                            emitter= emitter, pol_emi=pol_emi, gamma_emi=gamma_emi,\n",
    "                            omega_emi=omega_emi, border=border, max_gamma=max_gamma)\n",
    "\n",
    "population_ind = np.abs(results['psi'][:, -1]) ** 2"
   ]
  },
  {
   "cell_type": "markdown",
   "id": "24333b05-7856-4f42-bc28-029c8d11a556",
   "metadata": {},
   "source": [
    "### Collective"
   ]
  },
  {
   "cell_type": "code",
   "execution_count": 25,
   "id": "4ce1c301-1200-4b8d-8ba1-0a8a1f29377f",
   "metadata": {
    "execution": {
     "iopub.execute_input": "2022-02-03T13:09:21.200642Z",
     "iopub.status.busy": "2022-02-03T13:09:21.200642Z",
     "iopub.status.idle": "2022-02-03T13:09:21.215640Z",
     "shell.execute_reply": "2022-02-03T13:09:21.215640Z",
     "shell.execute_reply.started": "2022-02-03T13:09:21.200642Z"
    },
    "tags": []
   },
   "outputs": [],
   "source": [
    "de = 14.14 * d\n",
    "emitter = [[-de / np.sqrt(2) / 2, de / np.sqrt(2) / 2, 0],\n",
    "           [de / np.sqrt(2) / 2, -de / np.sqrt(2) / 2, 0]]\n",
    "\n",
    "n_e = 2\n",
    "signs = [1, 1]\n",
    "psi0 = np.zeros(N_x * N_y + n_e, dtype=complex)\n",
    "for i in range(n_e):\n",
    "    psi0[-i - 1] = signs[i] / np.sqrt(n_e)"
   ]
  },
  {
   "cell_type": "code",
   "execution_count": 26,
   "id": "4c58bad9-3df3-48a3-9d90-c658349e34e2",
   "metadata": {
    "execution": {
     "iopub.execute_input": "2022-02-03T13:09:21.216642Z",
     "iopub.status.busy": "2022-02-03T13:09:21.216642Z",
     "iopub.status.idle": "2022-02-03T13:09:52.400729Z",
     "shell.execute_reply": "2022-02-03T13:09:52.400729Z",
     "shell.execute_reply.started": "2022-02-03T13:09:21.216642Z"
    },
    "tags": []
   },
   "outputs": [],
   "source": [
    "results = complete_dynamics([x_pos, y_pos, z_pos], k0, pol_lat, dt, tf, psi0, \n",
    "                            emitter=emitter, pol_emi=pol_emi * 2, gamma_emi=gamma_emi,\n",
    "                            omega_emi=omega_emi, border=border, max_gamma=max_gamma)\n",
    "\n",
    "population_coll = np.sum(np.abs(results['psi'][:, -n_e:]) ** 2, axis=-1)\n",
    "\n",
    "population = np.abs(results['psi'][:, :-n_e].reshape((-1, N_y, N_x))) ** 2\n",
    "index_max = np.argmax(np.sum(population, axis=(1, 2)))\n",
    "real_space_emission = population[index_max]"
   ]
  },
  {
   "cell_type": "code",
   "execution_count": 27,
   "id": "e9428a69-4385-492d-ac1e-8e0d8dacafd9",
   "metadata": {
    "execution": {
     "iopub.execute_input": "2022-02-03T13:09:52.402733Z",
     "iopub.status.busy": "2022-02-03T13:09:52.401731Z",
     "iopub.status.idle": "2022-02-03T13:09:52.508730Z",
     "shell.execute_reply": "2022-02-03T13:09:52.508730Z",
     "shell.execute_reply.started": "2022-02-03T13:09:52.402733Z"
    },
    "tags": []
   },
   "outputs": [
    {
     "data": {
      "text/plain": [
       "Text(0, 0.5, 'population')"
      ]
     },
     "execution_count": 27,
     "metadata": {},
     "output_type": "execute_result"
    },
    {
     "data": {
      "image/png": "[encoded data removed]",
      "text/plain": [
       "<Figure size 432x288 with 1 Axes>"
      ]
     },
     "metadata": {
      "needs_background": "light"
     },
     "output_type": "display_data"
    }
   ],
   "source": [
    "fig, ax = plt.subplots()\n",
    "\n",
    "ax.plot(results['time'] * gamma_emi, population_ind, 'k', label='individual')\n",
    "ax.plot(results['time'] * gamma_emi, population_coll, 'r--', label='collective')\n",
    "ax.set_ylim(0, 1)\n",
    "ax.set_xlim(0, tf * gamma_emi)\n",
    "ax.set_xlabel(r'$t\\Gamma_a$')\n",
    "ax.set_ylabel('population');"
   ]
  },
  {
   "cell_type": "code",
   "execution_count": 28,
   "id": "945456ac-7b8f-48ff-b550-811c316c9332",
   "metadata": {
    "execution": {
     "iopub.execute_input": "2022-02-03T13:09:52.509731Z",
     "iopub.status.busy": "2022-02-03T13:09:52.509731Z",
     "iopub.status.idle": "2022-02-03T13:09:52.632731Z",
     "shell.execute_reply": "2022-02-03T13:09:52.632731Z",
     "shell.execute_reply.started": "2022-02-03T13:09:52.509731Z"
    },
    "tags": []
   },
   "outputs": [
    {
     "data": {
      "image/png": "[encoded data removed]",
      "text/plain": [
       "<Figure size 432x288 with 1 Axes>"
      ]
     },
     "metadata": {
      "needs_background": "light"
     },
     "output_type": "display_data"
    }
   ],
   "source": [
    "fig, ax = plt.subplots()\n",
    "ax.imshow(real_space_emission, origin='lower', aspect='equal', cmap='jet',\n",
    "          extent=[min(x_pos), max(x_pos), min(y_pos), max(y_pos)], vmin=0)\n",
    "\n",
    "ax.set_xlabel('x/d')\n",
    "ax.set_ylabel('y/d');"
   ]
  },
  {
   "cell_type": "markdown",
   "id": "1aa52b77-00a0-4391-a704-8be4e6e1a190",
   "metadata": {},
   "source": [
    "## Cluster"
   ]
  },
  {
   "cell_type": "markdown",
   "id": "be8d7003-a358-4de8-99b4-1f66dfee11bb",
   "metadata": {},
   "source": [
    "### Individual"
   ]
  },
  {
   "cell_type": "code",
   "execution_count": 29,
   "id": "75b23624-ea0d-4561-90de-c2903e50b7eb",
   "metadata": {
    "execution": {
     "iopub.execute_input": "2022-02-03T13:09:52.633732Z",
     "iopub.status.busy": "2022-02-03T13:09:52.633732Z",
     "iopub.status.idle": "2022-02-03T13:09:52.647730Z",
     "shell.execute_reply": "2022-02-03T13:09:52.647730Z",
     "shell.execute_reply.started": "2022-02-03T13:09:52.633732Z"
    },
    "tags": []
   },
   "outputs": [],
   "source": [
    "dc = 0.45 * d\n",
    "emitter = [[-dc / np.sqrt(2), dc / np.sqrt(2), 0],\n",
    "           [dc / np.sqrt(2), -dc / np.sqrt(2), 0]]\n",
    "\n",
    "n_e = 2\n",
    "signs = [1, 1]\n",
    "psi0 = np.zeros(N_x * N_y + n_e, dtype=complex)\n",
    "for i in range(n_e):\n",
    "    psi0[-i - 1] = signs[i] / np.sqrt(n_e)\n",
    "\n",
    "shift = compute_shift(emitter[0], emitter[1], pol_emi[0], pol_emi[0], k0, gamma_emi, psi0[-2:])"
   ]
  },
  {
   "cell_type": "code",
   "execution_count": 30,
   "id": "fcb3528c-ed60-457a-a418-e9bd0034c5b0",
   "metadata": {
    "execution": {
     "iopub.execute_input": "2022-02-03T13:09:52.648732Z",
     "iopub.status.busy": "2022-02-03T13:09:52.648732Z",
     "iopub.status.idle": "2022-02-03T13:10:24.106674Z",
     "shell.execute_reply": "2022-02-03T13:10:24.106674Z",
     "shell.execute_reply.started": "2022-02-03T13:09:52.648732Z"
    },
    "tags": []
   },
   "outputs": [],
   "source": [
    "results = complete_dynamics([x_pos, y_pos, z_pos], k0, pol_lat, dt, tf, psi0, \n",
    "                            emitter=emitter, pol_emi=pol_emi * n_e, gamma_emi=gamma_emi,\n",
    "                            omega_emi=omega_emi - np.real(shift), border=border,\n",
    "                            max_gamma=max_gamma)\n",
    "\n",
    "population_ind = np.sum(np.abs(results['psi'][:, -n_e:]) ** 2, axis=-1)"
   ]
  },
  {
   "cell_type": "markdown",
   "id": "f3508be8-1f79-48e3-aa1b-8a7a8aa1986d",
   "metadata": {},
   "source": [
    "### Collective"
   ]
  },
  {
   "cell_type": "code",
   "execution_count": 31,
   "id": "2abeef6f-edcb-4cbf-ac00-2ed6f00c25ad",
   "metadata": {
    "execution": {
     "iopub.execute_input": "2022-02-03T13:10:24.107674Z",
     "iopub.status.busy": "2022-02-03T13:10:24.107674Z",
     "iopub.status.idle": "2022-02-03T13:10:24.121676Z",
     "shell.execute_reply": "2022-02-03T13:10:24.121676Z",
     "shell.execute_reply.started": "2022-02-03T13:10:24.107674Z"
    },
    "tags": []
   },
   "outputs": [],
   "source": [
    "dc = 0.45 * d\n",
    "n_plaquette = 5\n",
    "emitter = [[n_plaquette + -dc / np.sqrt(2), n_plaquette + dc / np.sqrt(2), 0],\n",
    "           [n_plaquette + dc / np.sqrt(2),  n_plaquette -dc / np.sqrt(2), 0],\n",
    "           [-n_plaquette + -dc / np.sqrt(2), -n_plaquette + dc / np.sqrt(2), 0],\n",
    "           [-n_plaquette + dc / np.sqrt(2),  -n_plaquette -dc / np.sqrt(2), 0]]\n",
    "\n",
    "n_e = 4\n",
    "signs = [1, 1, 1, 1]\n",
    "psi0 = np.zeros(N_x * N_y + n_e, dtype=complex)\n",
    "for i in range(n_e):\n",
    "    psi0[-i - 1] = signs[i] / np.sqrt(n_e)\n",
    "\n",
    "shift = compute_shift(emitter[0], emitter[1], pol_emi[0], pol_emi[0], k0, gamma_emi, psi0[-2:])"
   ]
  },
  {
   "cell_type": "code",
   "execution_count": 32,
   "id": "a616bb5b-203e-472c-8681-3f513d3efc8d",
   "metadata": {
    "execution": {
     "iopub.execute_input": "2022-02-03T13:10:24.123674Z",
     "iopub.status.busy": "2022-02-03T13:10:24.122675Z",
     "iopub.status.idle": "2022-02-03T13:10:56.558540Z",
     "shell.execute_reply": "2022-02-03T13:10:56.558540Z",
     "shell.execute_reply.started": "2022-02-03T13:10:24.123674Z"
    },
    "tags": []
   },
   "outputs": [],
   "source": [
    "results = complete_dynamics([x_pos, y_pos, z_pos], k0, pol_lat, dt, tf, psi0, \n",
    "                            emitter=emitter, pol_emi=pol_emi * n_e, gamma_emi=gamma_emi,\n",
    "                            omega_emi=omega_emi - np.real(shift), border=border,\n",
    "                            max_gamma=max_gamma)\n",
    "\n",
    "population_coll = np.sum(np.abs(results['psi'][:, -n_e:]) ** 2, axis=-1)\n",
    "\n",
    "population = np.abs(results['psi'][:, :-n_e].reshape((-1, N_y, N_x))) ** 2\n",
    "index_max = np.argmax(np.sum(population, axis=(1, 2)))\n",
    "real_space_emission = population[index_max]"
   ]
  },
  {
   "cell_type": "code",
   "execution_count": 33,
   "id": "1baa4e74-f84f-4517-bde8-7c89282aaf95",
   "metadata": {
    "execution": {
     "iopub.execute_input": "2022-02-03T13:10:56.560543Z",
     "iopub.status.busy": "2022-02-03T13:10:56.560543Z",
     "iopub.status.idle": "2022-02-03T13:10:56.666540Z",
     "shell.execute_reply": "2022-02-03T13:10:56.666540Z",
     "shell.execute_reply.started": "2022-02-03T13:10:56.560543Z"
    },
    "tags": []
   },
   "outputs": [
    {
     "data": {
      "text/plain": [
       "Text(0, 0.5, 'population')"
      ]
     },
     "execution_count": 33,
     "metadata": {},
     "output_type": "execute_result"
    },
    {
     "data": {
      "image/png": "[encoded data removed]",
      "text/plain": [
       "<Figure size 432x288 with 1 Axes>"
      ]
     },
     "metadata": {
      "needs_background": "light"
     },
     "output_type": "display_data"
    }
   ],
   "source": [
    "fig, ax = plt.subplots()\n",
    "\n",
    "ax.plot(results['time'] * gamma_emi, population_ind, 'k', label='individual')\n",
    "ax.plot(results['time'] * gamma_emi, population_coll, 'r--', label='collective')\n",
    "ax.set_ylim(0, 1)\n",
    "ax.set_xlim(0, tf * gamma_emi)\n",
    "ax.set_xlabel(r'$t\\Gamma_a$')\n",
    "ax.set_ylabel('population');"
   ]
  },
  {
   "cell_type": "code",
   "execution_count": 34,
   "id": "289db1f4-286c-4a84-834a-f44a4e1dceb7",
   "metadata": {
    "execution": {
     "iopub.execute_input": "2022-02-03T13:10:56.667541Z",
     "iopub.status.busy": "2022-02-03T13:10:56.667541Z",
     "iopub.status.idle": "2022-02-03T13:10:56.746541Z",
     "shell.execute_reply": "2022-02-03T13:10:56.746541Z",
     "shell.execute_reply.started": "2022-02-03T13:10:56.667541Z"
    },
    "tags": []
   },
   "outputs": [
    {
     "data": {
      "image/png": "[encoded data removed]",
      "text/plain": [
       "<Figure size 432x288 with 1 Axes>"
      ]
     },
     "metadata": {
      "needs_background": "light"
     },
     "output_type": "display_data"
    }
   ],
   "source": [
    "fig, ax = plt.subplots()\n",
    "ax.imshow(real_space_emission, origin='lower', aspect='equal', cmap='jet',\n",
    "          extent=[min(x_pos), max(x_pos), min(y_pos), max(y_pos)], vmin=0)\n",
    "\n",
    "ax.set_xlabel('x/d')\n",
    "ax.set_ylabel('y/d');"
   ]
  },
  {
   "cell_type": "markdown",
   "id": "67046e9c-b4b8-473e-9d5f-13e7dcd37252",
   "metadata": {},
   "source": [
    "## Bilayer"
   ]
  },
  {
   "cell_type": "code",
   "execution_count": 3,
   "id": "11473fab-8ed9-4085-9d86-5c8ab7ccd5a8",
   "metadata": {
    "execution": {
     "iopub.execute_input": "2022-02-03T13:14:07.685260Z",
     "iopub.status.busy": "2022-02-03T13:14:07.684260Z",
     "iopub.status.idle": "2022-02-03T13:14:07.704259Z",
     "shell.execute_reply": "2022-02-03T13:14:07.704259Z",
     "shell.execute_reply.started": "2022-02-03T13:14:07.685260Z"
    },
    "tags": []
   },
   "outputs": [],
   "source": [
    "data = np.load('divergence_energy_bilayer_shift.npy', allow_pickle=True).item()\n",
    "omega_X_int = CubicSpline(data['z_vec'], data['omega_X'])"
   ]
  },
  {
   "cell_type": "markdown",
   "id": "4c2cf0e1-c359-44a1-a1a5-4739ad7d8ac4",
   "metadata": {},
   "source": [
    "### Individual"
   ]
  },
  {
   "cell_type": "code",
   "execution_count": 4,
   "id": "3d08de55-58d6-4cc3-9282-50419de6bfcb",
   "metadata": {
    "execution": {
     "iopub.execute_input": "2022-02-03T13:14:08.321297Z",
     "iopub.status.busy": "2022-02-03T13:14:08.320298Z",
     "iopub.status.idle": "2022-02-03T13:14:08.340300Z",
     "shell.execute_reply": "2022-02-03T13:14:08.340300Z",
     "shell.execute_reply.started": "2022-02-03T13:14:08.321297Z"
    },
    "tags": []
   },
   "outputs": [],
   "source": [
    "pol_lat = np.array([[1, 1, 0]] / np.sqrt(2)).T\n",
    "pol_emi = [np.array([[0, 1, 0]]).T]\n",
    "\n",
    "border = 10 # Border of adiabatic lossees\n",
    "gamma_max = 10  # Maximum individual free space decay rate in the border\n",
    "\n",
    "d = 1 # Wave-lenght of transition\n",
    "lambda0 = d / 0.3 # Wave-lenght of transition\n",
    "k0 = 2 * np.pi / lambda0\n",
    "\n",
    "border = 10\n",
    "max_gamma = 10\n",
    "\n",
    "db = 0.1 * d\n",
    "shift = np.array([0.5, 0.5, db]) # Displacement vector\n",
    "\n",
    "N_x = 50\n",
    "N_y = N_x\n",
    "x_pos_A = (np.arange(0, N_x) - N_x / 2 + d / 2)\n",
    "y_pos_A = (np.arange(0, N_y) - N_y / 2 + d / 2)\n",
    "x_pos_A, y_pos_A = [x.flatten() for x in np.meshgrid(x_pos_A, y_pos_A)]\n",
    "z_pos_A = np.zeros(np.shape(x_pos_A))\n",
    "n_A = len(x_pos_A)\n",
    "\n",
    "x_pos_B = x_pos_A + shift[0]\n",
    "y_pos_B = y_pos_A + shift[1]\n",
    "z_pos_B = z_pos_A + shift[2]\n",
    "n_B = len(x_pos_B)\n",
    "\n",
    "x_pos = np.append(x_pos_A, x_pos_B)\n",
    "y_pos = np.append(y_pos_A, y_pos_B)\n",
    "z_pos = np.append(z_pos_A, z_pos_B)\n",
    "r_pos = [x_pos, y_pos, z_pos]\n",
    "\n",
    "emitter = [[0.5, 0, db / 2]]\n",
    "n_e = 1\n",
    "\n",
    "psi0 = np.zeros(len(x_pos) + 1)\n",
    "psi0[-1] = 1\n",
    "\n",
    "gamma_emi = 0.002\n",
    "omega_emi = omega_X_int(db)\n",
    "\n",
    "dt = 2e-3 / gamma_emi\n",
    "tf = dt * 2 ** 10"
   ]
  },
  {
   "cell_type": "code",
   "execution_count": 5,
   "id": "ef60f4f7-7cf1-465a-8c8a-3ecd69612f05",
   "metadata": {
    "execution": {
     "iopub.execute_input": "2022-02-03T13:14:08.981904Z",
     "iopub.status.busy": "2022-02-03T13:14:08.981904Z",
     "iopub.status.idle": "2022-02-03T13:15:16.320669Z",
     "shell.execute_reply": "2022-02-03T13:15:16.320669Z",
     "shell.execute_reply.started": "2022-02-03T13:14:08.981904Z"
    },
    "tags": []
   },
   "outputs": [],
   "source": [
    "results = complete_dynamics([x_pos, y_pos, z_pos], k0, pol_lat, dt, tf, psi0, \n",
    "                            emitter=emitter, pol_emi=pol_emi * n_e, gamma_emi=gamma_emi,\n",
    "                            omega_emi=omega_emi, border=border, max_gamma=max_gamma)\n",
    "\n",
    "population_ind = np.sum(np.abs(results['psi'][:, -n_e:]) ** 2, axis=-1)\n",
    "\n",
    "population = np.abs(results['psi'][:, :n_A].reshape((-1, N_y, N_x))) ** 2\n",
    "index_max = np.argmax(np.sum(population, axis=(1, 2)))\n",
    "real_space_emission = population[index_max]"
   ]
  },
  {
   "cell_type": "markdown",
   "id": "c85dd850-7480-4fee-a61d-0e59fa8ccb85",
   "metadata": {},
   "source": [
    "### Collective"
   ]
  },
  {
   "cell_type": "code",
   "execution_count": 6,
   "id": "956da10e-0cf9-49f5-94a1-41fc8c3689b5",
   "metadata": {
    "execution": {
     "iopub.execute_input": "2022-02-03T13:16:32.085011Z",
     "iopub.status.busy": "2022-02-03T13:16:32.085011Z",
     "iopub.status.idle": "2022-02-03T13:16:32.100005Z",
     "shell.execute_reply": "2022-02-03T13:16:32.100005Z",
     "shell.execute_reply.started": "2022-02-03T13:16:32.085011Z"
    },
    "tags": []
   },
   "outputs": [],
   "source": [
    "n_plaquette = 4\n",
    "emitter = [[n_plaquette, n_plaquette + 0.5, shift[2] / 2],\n",
    "           [-n_plaquette, -n_plaquette + 0.5, shift[2] / 2]]\n",
    "n_e = 2\n",
    "\n",
    "signs = [1, 1]\n",
    "psi0 = np.zeros(n_A + n_B + n_e, dtype=complex)\n",
    "for i in range(n_e):\n",
    "    psi0[-i - 1] = signs[i] / np.sqrt(n_e)"
   ]
  },
  {
   "cell_type": "code",
   "execution_count": 7,
   "id": "a995c6ab-6a64-488b-9f97-a33277e2fa5c",
   "metadata": {
    "execution": {
     "iopub.execute_input": "2022-02-03T13:16:33.738350Z",
     "iopub.status.busy": "2022-02-03T13:16:33.738350Z",
     "iopub.status.idle": "2022-02-03T13:16:33.761348Z",
     "shell.execute_reply": "2022-02-03T13:16:33.761348Z",
     "shell.execute_reply.started": "2022-02-03T13:16:33.738350Z"
    },
    "tags": []
   },
   "outputs": [
    {
     "name": "stdout",
     "output_type": "stream",
     "text": [
      "Distance between emitters: 15.264 d\n"
     ]
    }
   ],
   "source": [
    "angle_target = 57.6 / 180 * np.pi\n",
    "counter = 0\n",
    "while True:\n",
    "    previous = copy.deepcopy(emitter)\n",
    "    theta = np.arctan((emitter[0][1] - emitter[1][1]) / (emitter[0][0] - emitter[1][0]))\n",
    "    if theta < angle_target:\n",
    "        desp = -1\n",
    "    else:\n",
    "        desp = 1\n",
    "    if counter % 2 == 0:\n",
    "        emitter[1][1] += desp\n",
    "    else:\n",
    "        emitter[0][1] -= desp\n",
    "    theta_new = np.arctan((emitter[0][1] - emitter[1][1]) / (emitter[0][0] - emitter[1][0]))\n",
    "    if np.abs(theta_new - angle_target) > np.abs(theta - angle_target):\n",
    "        emitter = previous[:]\n",
    "        break\n",
    "    else:\n",
    "        counter += 1\n",
    "        pass\n",
    "\n",
    "d_e = np.sqrt((emitter[0][0] - emitter[1][0]) ** 2 + (emitter[0][1] - emitter[1][1]) ** 2)\n",
    "print('Distance between emitters: {:.3f} d'.format(d_e))"
   ]
  },
  {
   "cell_type": "code",
   "execution_count": 8,
   "id": "7a20f013-8019-46e7-93a8-7d731285f4e1",
   "metadata": {
    "execution": {
     "iopub.execute_input": "2022-02-03T13:16:36.153663Z",
     "iopub.status.busy": "2022-02-03T13:16:36.152664Z",
     "iopub.status.idle": "2022-02-03T13:17:44.197360Z",
     "shell.execute_reply": "2022-02-03T13:17:44.197360Z",
     "shell.execute_reply.started": "2022-02-03T13:16:36.153663Z"
    },
    "tags": []
   },
   "outputs": [],
   "source": [
    "results = complete_dynamics([x_pos, y_pos, z_pos], k0, pol_lat, dt, tf, psi0, \n",
    "                            emitter=emitter, pol_emi=pol_emi * n_e, gamma_emi=gamma_emi,\n",
    "                            omega_emi=omega_emi, border=border, max_gamma=max_gamma)\n",
    "\n",
    "population_coll = np.sum(np.abs(results['psi'][:, -n_e:]) ** 2, axis=-1)\n",
    "\n",
    "population = np.abs(results['psi'][:, :n_A].reshape((-1, N_y, N_x))) ** 2\n",
    "index_max = np.argmax(np.sum(population, axis=(1, 2)))\n",
    "real_space_emission = population[index_max]"
   ]
  },
  {
   "cell_type": "code",
   "execution_count": 9,
   "id": "94332e3c-0204-4131-8cb0-f0264eb82849",
   "metadata": {
    "execution": {
     "iopub.execute_input": "2022-02-03T13:17:44.198361Z",
     "iopub.status.busy": "2022-02-03T13:17:44.198361Z",
     "iopub.status.idle": "2022-02-03T13:17:44.513362Z",
     "shell.execute_reply": "2022-02-03T13:17:44.513362Z",
     "shell.execute_reply.started": "2022-02-03T13:17:44.198361Z"
    },
    "tags": []
   },
   "outputs": [
    {
     "data": {
      "text/plain": [
       "Text(0, 0.5, 'population')"
      ]
     },
     "execution_count": 9,
     "metadata": {},
     "output_type": "execute_result"
    },
    {
     "data": {
      "image/png": "[encoded data removed]",
      "text/plain": [
       "<Figure size 432x288 with 1 Axes>"
      ]
     },
     "metadata": {
      "needs_background": "light"
     },
     "output_type": "display_data"
    }
   ],
   "source": [
    "fig, ax = plt.subplots()\n",
    "\n",
    "ax.plot(results['time'] * gamma_emi, population_ind, 'k', label='individual')\n",
    "ax.plot(results['time'] * gamma_emi, population_coll, 'r--', label='collective')\n",
    "ax.set_ylim(0, 1)\n",
    "ax.set_xlim(0, tf * gamma_emi)\n",
    "ax.set_xlabel(r'$t\\Gamma_a$')\n",
    "ax.set_ylabel('population');"
   ]
  },
  {
   "cell_type": "code",
   "execution_count": 11,
   "id": "9512cda3-c7d8-40d9-8720-32773a5badfd",
   "metadata": {
    "execution": {
     "iopub.execute_input": "2022-02-03T13:18:14.914833Z",
     "iopub.status.busy": "2022-02-03T13:18:14.914833Z",
     "iopub.status.idle": "2022-02-03T13:18:15.008342Z",
     "shell.execute_reply": "2022-02-03T13:18:15.008342Z",
     "shell.execute_reply.started": "2022-02-03T13:18:14.914833Z"
    },
    "tags": []
   },
   "outputs": [
    {
     "data": {
      "image/png": "[encoded data removed]",
      "text/plain": [
       "<Figure size 432x288 with 1 Axes>"
      ]
     },
     "metadata": {
      "needs_background": "light"
     },
     "output_type": "display_data"
    }
   ],
   "source": [
    "fig, ax = plt.subplots()\n",
    "ax.imshow(real_space_emission, origin='lower', aspect='equal', cmap='jet',\n",
    "          extent=[min(x_pos), max(x_pos), min(y_pos), max(y_pos)], vmin=0)\n",
    "\n",
    "ax.set_xlabel('x/d')\n",
    "ax.set_ylabel('y/d');"
   ]
  }
 ],
 "metadata": {
  "kernelspec": {
   "display_name": "Python 3",
   "language": "python",
   "name": "python3"
  },
  "language_info": {
   "codemirror_mode": {
    "name": "ipython",
    "version": 3
   },
   "file_extension": ".py",
   "mimetype": "text/x-python",
   "name": "python",
   "nbconvert_exporter": "python",
   "pygments_lexer": "ipython3",
   "version": "3.8.8"
  }
 },
 "nbformat": 4,
 "nbformat_minor": 5
}
