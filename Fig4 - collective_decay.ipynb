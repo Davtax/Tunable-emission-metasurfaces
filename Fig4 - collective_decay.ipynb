{
 "cells": [
  {
   "cell_type": "markdown",
   "id": "0b1549ec-f576-4204-9881-fd1848068db9",
   "metadata": {},
   "source": [
    "# Code for Fig. 4"
   ]
  },
  {
   "cell_type": "code",
   "execution_count": 2,
   "id": "1f7d2f61-9673-4ca4-b057-2c88054c537a",
   "metadata": {
    "execution": {
     "iopub.execute_input": "2022-02-08T13:25:14.956553Z",
     "iopub.status.busy": "2022-02-08T13:25:14.956264Z",
     "iopub.status.idle": "2022-02-08T13:25:24.587267Z",
     "shell.execute_reply": "2022-02-08T13:25:24.586141Z",
     "shell.execute_reply.started": "2022-02-08T13:25:14.956520Z"
    },
    "tags": []
   },
   "outputs": [],
   "source": [
    "%load_ext autoreload\n",
    "%autoreload 1\n",
    "%aimport general_functions"
   ]
  },
  {
   "cell_type": "code",
   "execution_count": 3,
   "id": "6914c9a1-4f4f-4dc9-88c6-392f7f554d0d",
   "metadata": {
    "execution": {
     "iopub.execute_input": "2022-02-08T13:25:24.588786Z",
     "iopub.status.busy": "2022-02-08T13:25:24.588522Z",
     "iopub.status.idle": "2022-02-08T13:25:25.000839Z",
     "shell.execute_reply": "2022-02-08T13:25:24.999575Z",
     "shell.execute_reply.started": "2022-02-08T13:25:24.588748Z"
    },
    "tags": []
   },
   "outputs": [],
   "source": [
    "import numpy as np\n",
    "import matplotlib.pyplot as plt\n",
    "from scipy.interpolate import CubicSpline\n",
    "from tqdm.auto import tqdm\n",
    "import copy\n",
    "\n",
    "from general_functions import complete_dynamics, compute_shift"
   ]
  },
  {
   "cell_type": "markdown",
   "id": "8e358d18-a64b-4e6a-89b0-321d3c328405",
   "metadata": {},
   "source": [
    "To compute the collective decay rate of a pair of emitters (or pair of clusters) we fit the time evolution of $\\mathcal{P}_a(t) = \\sum_{a_i}|C{a_i}(t)| ^2$ to the following equation\n",
    "\n",
    "\\begin{equation}\n",
    "    \\mathcal{P}_a(t) = 10^{-i\\Gamma_\\mathrm{coll}t}.\n",
    "\\end{equation}"
   ]
  },
  {
   "cell_type": "markdown",
   "id": "de313e01-834b-4905-b1cb-c42ff0306d7c",
   "metadata": {},
   "source": [
    "## Free space (a, solid line)"
   ]
  },
  {
   "cell_type": "code",
   "execution_count": 4,
   "id": "a099a875-9c82-4c99-815f-13a359a93827",
   "metadata": {
    "execution": {
     "iopub.execute_input": "2022-02-08T13:25:25.003036Z",
     "iopub.status.busy": "2022-02-08T13:25:25.002755Z",
     "iopub.status.idle": "2022-02-08T13:25:25.009343Z",
     "shell.execute_reply": "2022-02-08T13:25:25.008326Z",
     "shell.execute_reply.started": "2022-02-08T13:25:25.003003Z"
    },
    "tags": []
   },
   "outputs": [],
   "source": [
    "pol_emi = np.array([[0, 1, 0]]).T\n",
    "\n",
    "d = 1  # Wave-length of transition\n",
    "lambda0 = d / 0.3  # Wave-length of transition\n",
    "k0 = 2 * np.pi / lambda0\n",
    "\n",
    "dt = 2e-3  # Time step\n",
    "tf = dt * 2 ** 10  # Final time\n",
    "\n",
    "psi0 = np.array([1, -1]) / np.sqrt(2)"
   ]
  },
  {
   "cell_type": "code",
   "execution_count": 62,
   "id": "ab5f3d44-77d6-42ea-a29d-08158edcfe21",
   "metadata": {
    "execution": {
     "iopub.execute_input": "2022-02-04T15:58:53.513149Z",
     "iopub.status.busy": "2022-02-04T15:58:53.512827Z",
     "iopub.status.idle": "2022-02-04T15:58:55.403580Z",
     "shell.execute_reply": "2022-02-04T15:58:55.403192Z",
     "shell.execute_reply.started": "2022-02-04T15:58:53.513131Z"
    },
    "tags": []
   },
   "outputs": [
    {
     "data": {
      "application/vnd.jupyter.widget-view+json": {
       "model_id": "3045eb7e4e6c4abb8b4d5c8fb6501b41",
       "version_major": 2,
       "version_minor": 0
      },
      "text/plain": [
       "Computing dynamics:   0%|          | 0/1000 [00:00<?, ?it/s]"
      ]
     },
     "metadata": {},
     "output_type": "display_data"
    }
   ],
   "source": [
    "n_de = 1000\n",
    "de_vector = np.linspace(0.1, 22, n_de) * d\n",
    "\n",
    "decays_free = np.zeros(n_de)\n",
    "\n",
    "pbar = tqdm(total=n_de, desc='Computing dynamics')\n",
    "for i in range(n_de): \n",
    "    emitter = [[de_vector[i] / 2, 0, 0],\n",
    "               [-de_vector[i] / 2, 0, 0]]\n",
    "    \n",
    "    r_pos = [np.array([emi[coord] for emi in emitter]) for coord in range(3)]\n",
    "    \n",
    "    results = complete_dynamics(r_pos, k0, pol_emi, dt, tf, psi0)\n",
    "    \n",
    "    time = results['time']\n",
    "    psi = results['psi']\n",
    "    p_e = np.sum(np.abs(psi) ** 2, axis=-1)\n",
    "    \n",
    "    index0 = len(p_e) // 2\n",
    "    \n",
    "    fit = np.polyfit(time[index0:], np.log(p_e[index0:]), 1)\n",
    "    alpha = fit[0]\n",
    "    decays_free[i] = alpha\n",
    "    \n",
    "    pbar.update()    \n",
    "pbar.close()"
   ]
  },
  {
   "cell_type": "markdown",
   "id": "0e01f709-b07f-4375-b7e8-3fdd179490b1",
   "metadata": {},
   "source": [
    "## Monolayer (a-b, blue circles)"
   ]
  },
  {
   "cell_type": "code",
   "execution_count": 69,
   "id": "51d1ae6a-433d-4e47-965e-2ebe7d6df87b",
   "metadata": {
    "execution": {
     "iopub.execute_input": "2022-02-04T16:00:40.688757Z",
     "iopub.status.busy": "2022-02-04T16:00:40.688574Z",
     "iopub.status.idle": "2022-02-04T16:00:40.694438Z",
     "shell.execute_reply": "2022-02-04T16:00:40.694025Z",
     "shell.execute_reply.started": "2022-02-04T16:00:40.688741Z"
    },
    "tags": []
   },
   "outputs": [],
   "source": [
    "pol_lat = np.array([[0, 1, 0]]).T\n",
    "pol_emi = [np.array([[1, 1, 0]]).T / np.sqrt(2)] * 2\n",
    "\n",
    "border = 15  # Border of adiabatic losses\n",
    "gamma_max = 15  # Maximum individual free space decay rate in the border\n",
    "\n",
    "N_x = 60\n",
    "N_y = N_x\n",
    "x_pos = (np.arange(0, N_x) - N_x / 2 + d / 2)\n",
    "y_pos = (np.arange(0, N_y) - N_y / 2 + d / 2)\n",
    "x_pos, y_pos = [x.flatten() for x in np.meshgrid(x_pos, y_pos)]\n",
    "z_pos = np.zeros(np.shape(x_pos))\n",
    "r_pos = [x_pos, y_pos, z_pos]\n",
    "\n",
    "gamma_emi = 0.002\n",
    "omega_emi = -0.999  # For d / lambda_0 = 0.3\n",
    "n_e = len(pol_emi)\n",
    "\n",
    "dt = 2e-3 / gamma_emi  # Time step\n",
    "tf = dt * 2 ** 10  # Final time\n",
    "\n",
    "emitter = [[-1, 1, 0], [1, -1, 0]]\n",
    "\n",
    "signs = [1, 1]\n",
    "psi0 = np.zeros(N_x * N_y + n_e, dtype=complex)\n",
    "for i in range(n_e):\n",
    "    psi0[-i - 1] = signs[i] / np.sqrt(n_e)"
   ]
  },
  {
   "cell_type": "code",
   "execution_count": 70,
   "id": "bba5d1f1-ed0b-47e1-8074-ea56e8f4d91b",
   "metadata": {
    "execution": {
     "iopub.execute_input": "2022-02-04T16:00:45.628485Z",
     "iopub.status.busy": "2022-02-04T16:00:45.628241Z",
     "iopub.status.idle": "2022-02-04T16:10:36.148130Z",
     "shell.execute_reply": "2022-02-04T16:10:36.147765Z",
     "shell.execute_reply.started": "2022-02-04T16:00:45.628468Z"
    },
    "tags": []
   },
   "outputs": [
    {
     "data": {
      "application/vnd.jupyter.widget-view+json": {
       "model_id": "3d4d40f2d6fe488ba9c35eb4643e97eb",
       "version_major": 2,
       "version_minor": 0
      },
      "text/plain": [
       "Computing dynamics:   0%|          | 0/7 [00:00<?, ?it/s]"
      ]
     },
     "metadata": {},
     "output_type": "display_data"
    }
   ],
   "source": [
    "n_plaquettes = 7\n",
    "distances_monolayer = np.zeros(n_plaquettes)\n",
    "decays_monolayer = np.zeros(n_plaquettes)\n",
    "\n",
    "pbar = tqdm(total=n_plaquettes, desc='Computing dynamics')\n",
    "for i in range(n_plaquettes):\n",
    "    # Move the emitters in a diagonal given by y = -x\n",
    "    if i != 0:\n",
    "        emitter[1][0] += 1\n",
    "        emitter[1][1] -= 1\n",
    "        emitter[0][0] -= 1\n",
    "        emitter[0][1] += 1\n",
    "        \n",
    "    data = complete_dynamics(r_pos, k0, pol_lat, dt, tf, psi0, N_x, N_y, emitter, pol_emi,\n",
    "                             gamma_emi, omega_emi, border, max_gamma=gamma_max)\n",
    "    \n",
    "    time = data['time']\n",
    "    psi = data['psi']\n",
    "    p_e = np.sum(np.abs(psi[:, -n_e:]) ** 2, axis=-1)\n",
    "    \n",
    "    distances_monolayer[i] = np.linalg.norm(np.array(emitter[0]) - np.array(emitter[1]))\n",
    "    \n",
    "    # Fit the decay rate of the emitters. The initial and final indices are needed so the system is\n",
    "    # close to a steady state.\n",
    "    index_i = 100\n",
    "    index_f = len(time) // 3\n",
    "    fit = np.polyfit(time[index_i:index_f] * gamma_emi, np.log(p_e[index_i:index_f]), 1)\n",
    "    alpha = fit[0]\n",
    "    \n",
    "    decays_monolayer[i] = alpha\n",
    "    \n",
    "    pbar.update()    \n",
    "pbar.close()"
   ]
  },
  {
   "cell_type": "markdown",
   "id": "c1b24ad6-327e-4de0-a84e-8c3b992f8fe0",
   "metadata": {},
   "source": [
    "## Two clusters (a-b, green triangles)"
   ]
  },
  {
   "cell_type": "code",
   "execution_count": 23,
   "id": "0f20c101-8532-49c8-bf47-b9ef695256ef",
   "metadata": {
    "execution": {
     "iopub.execute_input": "2022-02-04T14:52:29.073840Z",
     "iopub.status.busy": "2022-02-04T14:52:29.073317Z",
     "iopub.status.idle": "2022-02-04T14:52:29.081676Z",
     "shell.execute_reply": "2022-02-04T14:52:29.081261Z",
     "shell.execute_reply.started": "2022-02-04T14:52:29.073776Z"
    },
    "tags": []
   },
   "outputs": [],
   "source": [
    "pol_lat = np.array([[0, 1, 0]]).T\n",
    "pol_emi = [np.array([[1, 1, 0]]).T / np.sqrt(2)] * 4\n",
    "\n",
    "n_e = len(pol_emi)\n",
    "\n",
    "signs = [1, 1, 1, 1]\n",
    "psi0 = np.zeros(N_x * N_y + n_e, dtype=complex)\n",
    "for i in range(n_e):\n",
    "    psi0[-i - 1] = signs[i] / np.sqrt(n_e)\n",
    "\n",
    "omega_emi = -0.999  # For d / lambda_0 = 0.3\n",
    "r_e = 0.45\n",
    "theta_e = [3 * np.pi / 4]\n",
    "theta_e.append(theta_e[0] + np.pi)\n",
    "emitter = []\n",
    "for theta in theta_e:\n",
    "    emitter.append([1 + r_e * np.cos(theta), 1 + r_e * np.sin(theta), 0])\n",
    "for theta in theta_e:\n",
    "    emitter.append([-1 + r_e * np.cos(theta), -1 + r_e * np.sin(theta), 0])\n",
    "    \n",
    "shift = compute_shift(emitter[0], emitter[1], pol_emi[0], pol_emi[1], k0, gamma_emi, psi0[-2:])"
   ]
  },
  {
   "cell_type": "code",
   "execution_count": 24,
   "id": "b8e498ff-e1cf-4468-8569-cf02becb4262",
   "metadata": {
    "execution": {
     "iopub.execute_input": "2022-02-04T14:52:31.646974Z",
     "iopub.status.busy": "2022-02-04T14:52:31.646441Z",
     "iopub.status.idle": "2022-02-04T14:57:22.498834Z",
     "shell.execute_reply": "2022-02-04T14:57:22.498394Z",
     "shell.execute_reply.started": "2022-02-04T14:52:31.646909Z"
    },
    "tags": []
   },
   "outputs": [
    {
     "data": {
      "application/vnd.jupyter.widget-view+json": {
       "model_id": "c95588a57b7c4c2f896471e5b6754b8d",
       "version_major": 2,
       "version_minor": 0
      },
      "text/plain": [
       "Computing dynamics:   0%|          | 0/7 [00:00<?, ?it/s]"
      ]
     },
     "metadata": {},
     "output_type": "display_data"
    }
   ],
   "source": [
    "n_plaquettes = 7\n",
    "distances_cluster = np.zeros(n_plaquettes)\n",
    "decays_cluster = np.zeros(n_plaquettes)\n",
    "\n",
    "pbar = tqdm(total=n_plaquettes, desc='Computing dynamics')\n",
    "for i in range(n_plaquettes):\n",
    "    if i != 0:\n",
    "        for k in range(2):\n",
    "            emitter[k][0] += 1\n",
    "            emitter[k][1] += 1\n",
    "            emitter[k + 2][0] -= 1\n",
    "            emitter[k + 2][1] -= 1\n",
    "        \n",
    "    data = complete_dynamics(r_pos, k0, pol_lat, dt, tf, psi0, N_x, N_y, emitter, pol_emi,\n",
    "                             gamma_emi, omega_emi - np.real(shift), border, max_gamma=gamma_max)\n",
    "    \n",
    "    time = data['time']\n",
    "    psi = data['psi']\n",
    "    p_e = np.sum(np.abs(psi[:, -n_e:]) ** 2, axis=-1)\n",
    "    \n",
    "    mean1 = (np.array(emitter[0]) + np.array(emitter[1])) / 2\n",
    "    mean2 = (np.array(emitter[2]) + np.array(emitter[3])) / 2\n",
    "    distances_cluster[i] = np.linalg.norm(mean1 - mean2)\n",
    "\n",
    "    index_i = 100\n",
    "    index_f = len(time) // 3\n",
    "    fit = np.polyfit(time[index_i:index_f] * gamma_emi, np.log(p_e[index_i:index_f]), 1)\n",
    "    alpha = fit[0]\n",
    "    \n",
    "    decays_cluster[i] = alpha\n",
    "    \n",
    "    pbar.update()\n",
    "pbar.close()"
   ]
  },
  {
   "cell_type": "markdown",
   "id": "4edbfb5c-37d4-42f4-9b5e-844f0168e17c",
   "metadata": {},
   "source": [
    "## Bilayer (a-b, orange squares)"
   ]
  },
  {
   "cell_type": "code",
   "execution_count": 6,
   "id": "c71f0c0b-b0bf-47bb-b50e-9d2750702b4d",
   "metadata": {
    "execution": {
     "iopub.execute_input": "2022-02-08T13:25:30.900034Z",
     "iopub.status.busy": "2022-02-08T13:25:30.899746Z",
     "iopub.status.idle": "2022-02-08T13:25:31.029346Z",
     "shell.execute_reply": "2022-02-08T13:25:31.028331Z",
     "shell.execute_reply.started": "2022-02-08T13:25:30.900001Z"
    },
    "tags": []
   },
   "outputs": [],
   "source": [
    "data = np.load('../data/divergence_energy_bilayer_shift.npy', allow_pickle=True).item()\n",
    "omega_X_int = CubicSpline(data['z_vec'], data['omega_X'])"
   ]
  },
  {
   "cell_type": "code",
   "execution_count": 7,
   "id": "f6175fa7-bbe5-40fa-a66b-705eab4dcea9",
   "metadata": {
    "execution": {
     "iopub.execute_input": "2022-02-08T13:25:31.483957Z",
     "iopub.status.busy": "2022-02-08T13:25:31.483657Z",
     "iopub.status.idle": "2022-02-08T13:25:31.522693Z",
     "shell.execute_reply": "2022-02-08T13:25:31.521680Z",
     "shell.execute_reply.started": "2022-02-08T13:25:31.483923Z"
    },
    "tags": []
   },
   "outputs": [],
   "source": [
    "angle_target = 57.6 / 180 * np.pi\n",
    "\n",
    "pol_lat = np.array([[1, 1, 0]]).T / np.sqrt(2)\n",
    "pol_emi = [np.array([[0, 1, 0]]).T ] * 2\n",
    "\n",
    "shift = np.array([0.5, 0.5, 0.1])  # Displacement vector\n",
    "\n",
    "N_x = 50\n",
    "N_y = N_x\n",
    "x_pos_A = (np.arange(0, N_x) - N_x / 2 + d / 2)\n",
    "y_pos_A = (np.arange(0, N_y) - N_y / 2 + d / 2)\n",
    "x_pos_A, y_pos_A = np.meshgrid(x_pos_A, y_pos_A)\n",
    "z_pos_A = np.zeros(np.shape(x_pos_A))\n",
    "\n",
    "x_pos_B = shift[0] + x_pos_A[:-1, :-1]\n",
    "y_pos_B = shift[1] + y_pos_A[:-1, :-1]\n",
    "z_pos_B = shift[2] + z_pos_A[:-1, :-1]\n",
    "\n",
    "x_pos_A = x_pos_A.flatten()\n",
    "y_pos_A = y_pos_A.flatten()\n",
    "n_A = len(x_pos_A)\n",
    "\n",
    "x_pos_B = x_pos_B.flatten()\n",
    "y_pos_B = y_pos_B.flatten()\n",
    "n_B = len(x_pos_B)\n",
    "\n",
    "x_pos = np.append(x_pos_A, x_pos_B)\n",
    "y_pos = np.append(y_pos_A, y_pos_B)\n",
    "z_pos = np.append(z_pos_A, z_pos_B)\n",
    "r_pos = [x_pos, y_pos, z_pos]\n",
    "\n",
    "omega_emi = omega_X_int(shift[2])\n",
    "n_e = len(pol_emi)\n",
    "emitter = [[1, 1 + 0.5, shift[2] / 2], [-1, -1 + 0.5, shift[2] / 2]]\n",
    "\n",
    "signs = [1, 1]\n",
    "psi0 = np.zeros(n_A + n_B + n_e, dtype=complex)\n",
    "for i in range(n_e):\n",
    "    psi0[-i - 1] = signs[i] / np.sqrt(n_e)"
   ]
  },
  {
   "cell_type": "code",
   "execution_count": 54,
   "id": "b752944a-b91e-4d1f-aa49-04dad6bc75e5",
   "metadata": {
    "execution": {
     "iopub.execute_input": "2022-02-04T15:36:26.836950Z",
     "iopub.status.busy": "2022-02-04T15:36:26.836308Z",
     "iopub.status.idle": "2022-02-04T15:53:43.394173Z",
     "shell.execute_reply": "2022-02-04T15:53:43.393490Z",
     "shell.execute_reply.started": "2022-02-04T15:36:26.836932Z"
    },
    "tags": []
   },
   "outputs": [
    {
     "data": {
      "application/vnd.jupyter.widget-view+json": {
       "model_id": "20597dd1b93e4a8cbd9fa59fffdaa299",
       "version_major": 2,
       "version_minor": 0
      },
      "text/plain": [
       "Computing dynamics:   0%|          | 0/5 [00:00<?, ?it/s]"
      ]
     },
     "metadata": {},
     "output_type": "display_data"
    }
   ],
   "source": [
    "n_plaquettes = 5\n",
    "distances_bilayer = np.zeros(n_plaquettes)\n",
    "decays_bilayer = np.zeros(n_plaquettes)\n",
    "\n",
    "pbar = tqdm(total=n_plaquettes, desc='Computing dynamics')\n",
    "for i in range(n_plaquettes):\n",
    "    if i != 0:\n",
    "        emitter[0][0] += 1\n",
    "        emitter[0][1] += 1\n",
    "        emitter[1][0] -= 1\n",
    "        emitter[1][1] -= 1\n",
    "    \n",
    "    # The emission in the bilayer case is not in 45º, so we move the emitter until reach to\n",
    "    # an angle close to 57.6º.\n",
    "    \n",
    "    counter = 0\n",
    "    while True:\n",
    "        previous = copy.deepcopy(emitter)\n",
    "        theta = np.arctan((emitter[0][1] - emitter[1][1]) / (emitter[0][0] - emitter[1][0]))\n",
    "        if theta < angle_target:\n",
    "            desp = -1\n",
    "        else:\n",
    "            desp = 1\n",
    "        if counter % 2 == 0:\n",
    "            emitter[1][1] += desp\n",
    "        else:\n",
    "            emitter[0][1] -= desp\n",
    "        theta_new = np.arctan((emitter[0][1] - emitter[1][1]) / (emitter[0][0] - emitter[1][0]))\n",
    "        if np.abs(theta_new - angle_target) > np.abs(theta - angle_target):\n",
    "            emitter = previous[:]\n",
    "            break\n",
    "        else:\n",
    "            counter += 1\n",
    "            pass\n",
    "    \n",
    "    data = complete_dynamics(r_pos, k0, pol_lat, dt, tf, psi0, N_x, N_y, emitter, pol_emi,\n",
    "                             gamma_emi, omega_emi, border, max_gamma=gamma_max)\n",
    "    \n",
    "    time = data['time']\n",
    "    psi = data['psi']\n",
    "    p_e = np.sum(np.abs(psi[:, -n_e:]) ** 2, axis=-1)\n",
    "    \n",
    "    distances_bilayer[i] = np.linalg.norm(np.array(emitter[0]) - np.array(emitter[1]))\n",
    "    \n",
    "    index_i = 10\n",
    "    index_f = 300\n",
    "    fit = np.polyfit(time[index_i:index_f] * gamma_emi, np.log(p_e[index_i:index_f]), 1)\n",
    "    alpha = fit[0]\n",
    "    \n",
    "    decays_bilayer[i] = alpha\n",
    "    \n",
    "    pbar.update()    \n",
    "pbar.close()"
   ]
  },
  {
   "cell_type": "markdown",
   "id": "bc7dfc8c-64f3-424b-8f7c-665cf3cfb238",
   "metadata": {},
   "source": [
    "## All cases"
   ]
  },
  {
   "cell_type": "code",
   "execution_count": 71,
   "id": "20e94d42-b83b-4b11-872b-8ff0d8a78976",
   "metadata": {
    "execution": {
     "iopub.execute_input": "2022-02-04T16:10:36.189665Z",
     "iopub.status.busy": "2022-02-04T16:10:36.189569Z",
     "iopub.status.idle": "2022-02-04T16:10:36.349627Z",
     "shell.execute_reply": "2022-02-04T16:10:36.349243Z",
     "shell.execute_reply.started": "2022-02-04T16:10:36.189652Z"
    },
    "tags": []
   },
   "outputs": [
    {
     "data": {
      "text/plain": [
       "Text(0, 0.5, '$\\\\Gamma_\\\\mathrm{coll}/\\\\Gamma_\\\\mathrm{ind}$')"
      ]
     },
     "execution_count": 71,
     "metadata": {},
     "output_type": "execute_result"
    },
    {
     "data": {
      "image/png": "[encoded data removed]",
      "text/plain": [
       "<Figure size 432x288 with 2 Axes>"
      ]
     },
     "metadata": {
      "needs_background": "light"
     },
     "output_type": "display_data"
    }
   ],
   "source": [
    "fig, [ax1, ax2] = plt.subplots(2, 1, sharex=True)\n",
    "fig.subplots_adjust(hspace=0)\n",
    "\n",
    "ax1.plot(de_vector, -decays_free, 'k')\n",
    "ax1.scatter(distances_monolayer, -decays_monolayer, marker='o')\n",
    "ax1.scatter(distances_bilayer, -decays_bilayer, marker='s')\n",
    "ax1.scatter(distances_cluster, -decays_cluster, marker='v')\n",
    "\n",
    "ax1.set_xlim(0, 22)\n",
    "ax1.set_ylabel(r'$\\Gamma_\\mathrm{coll}/\\Gamma_a$')\n",
    "\n",
    "ax2.scatter(distances_monolayer, -decays_monolayer / 2, marker='o')\n",
    "ax2.scatter(distances_bilayer, -decays_bilayer / 9.54, marker='s')\n",
    "ax2.scatter(distances_cluster, -decays_cluster / 10.09, marker='v')\n",
    "\n",
    "ax2.set_ylim(1, ax2.get_ylim()[-1])\n",
    "ax2.set_xlabel(r'$d_e / d$')\n",
    "ax2.set_ylabel(r'$\\Gamma_\\mathrm{coll}/\\Gamma_\\mathrm{ind}$');"
   ]
  }
 ],
 "metadata": {
  "kernelspec": {
   "display_name": "Python 3",
   "language": "python",
   "name": "python3"
  },
  "language_info": {
   "codemirror_mode": {
    "name": "ipython",
    "version": 3
   },
   "file_extension": ".py",
   "mimetype": "text/x-python",
   "name": "python",
   "nbconvert_exporter": "python",
   "pygments_lexer": "ipython3",
   "version": "3.8.8"
  }
 },
 "nbformat": 4,
 "nbformat_minor": 5
}
