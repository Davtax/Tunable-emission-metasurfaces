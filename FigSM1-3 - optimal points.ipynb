{
 "cells": [
  {
   "cell_type": "markdown",
   "id": "0a330207-d5bf-4c46-a1f3-edf390d8c9f5",
   "metadata": {},
   "source": [
    "# Code for Fig. SM 1-3"
   ]
  },
  {
   "cell_type": "code",
   "execution_count": 34,
   "id": "e9d9a39f-eae6-4465-91ee-add48c52e711",
   "metadata": {
    "execution": {
     "iopub.execute_input": "2022-02-05T16:40:09.605867Z",
     "iopub.status.busy": "2022-02-05T16:40:09.605621Z",
     "iopub.status.idle": "2022-02-05T16:40:09.610169Z",
     "shell.execute_reply": "2022-02-05T16:40:09.609793Z",
     "shell.execute_reply.started": "2022-02-05T16:40:09.605848Z"
    },
    "tags": []
   },
   "outputs": [
    {
     "name": "stdout",
     "output_type": "stream",
     "text": [
      "The autoreload extension is already loaded. To reload it, use:\n",
      "  %reload_ext autoreload\n"
     ]
    }
   ],
   "source": [
    "%load_ext autoreload\n",
    "%autoreload 1\n",
    "%aimport general_functions"
   ]
  },
  {
   "cell_type": "code",
   "execution_count": 35,
   "id": "fc4375e2-a866-4715-8042-fbbc6bda9b93",
   "metadata": {
    "execution": {
     "iopub.execute_input": "2022-02-05T16:40:09.823128Z",
     "iopub.status.busy": "2022-02-05T16:40:09.822667Z",
     "iopub.status.idle": "2022-02-05T16:40:09.843504Z",
     "shell.execute_reply": "2022-02-05T16:40:09.843136Z",
     "shell.execute_reply.started": "2022-02-05T16:40:09.823104Z"
    },
    "tags": []
   },
   "outputs": [],
   "source": [
    "import numpy as np\n",
    "import matplotlib.pyplot as plt\n",
    "from tqdm.auto import tqdm\n",
    "from joblib import Parallel, delayed\n",
    "from matplotlib import cm\n",
    "from scipy.interpolate import interp1d\n",
    "\n",
    "from general_functions import compute_energies, dos_general, plot_band_structure"
   ]
  },
  {
   "cell_type": "markdown",
   "id": "51a51f18-f62c-4276-9f4d-6660cc826859",
   "metadata": {},
   "source": [
    "To compare the band structure for our system of dipoles in a square lattice, with the results obtained for a tight binding (TB) model, we focus on the isofrequency for the $\\mathbf{k}=X$ point. In the TB model the isofrequency is a 45º tilted square, with the corners in the X point. To quantify the similarity we propose the parameter\n",
    "\n",
    "\\begin{equation}\n",
    "    \\Delta = \\int_0^{\\pi/d} dk_x [(-k_x + \\pi/d) - \\tilde{k}_y(k_x)]^2,\n",
    "\\end{equation}\n",
    "\n",
    "with $\\omega(k_x, \\tilde{k}_y) = \\omega_{\\mathbf{k}=X}$."
   ]
  },
  {
   "cell_type": "markdown",
   "id": "8a39ae71-50cc-483b-8950-e35c73d2a704",
   "metadata": {},
   "source": [
    "## Compute all band structures"
   ]
  },
  {
   "cell_type": "code",
   "execution_count": 36,
   "id": "2bf086fa-6d99-4b8b-8c1a-0e9e4cfd64c7",
   "metadata": {
    "execution": {
     "iopub.execute_input": "2022-02-05T16:40:13.303366Z",
     "iopub.status.busy": "2022-02-05T16:40:13.303150Z",
     "iopub.status.idle": "2022-02-05T16:40:13.308120Z",
     "shell.execute_reply": "2022-02-05T16:40:13.307708Z",
     "shell.execute_reply.started": "2022-02-05T16:40:13.303344Z"
    },
    "tags": []
   },
   "outputs": [],
   "source": [
    "polarizations = [np.array([[0, 1, 0]]).T]  # Polarization of lattice\n",
    "\n",
    "d = 1  # Lattice constant\n",
    "\n",
    "aho = 0.1 * d  # Renormalization parameter\n",
    "\n",
    "nmax = 9  # Number of reciprocal lattice in the summatory\n",
    "\n",
    "# Reciprocal lattice vectors\n",
    "b1 = 2 * np.pi / d * np.array([1, 0])\n",
    "b2 = 2 * np.pi / d * np.array([0, 1])\n",
    "\n",
    "A = d ** 2  # Area of unit cell in real space\n",
    "\n",
    "# Symmatric points\n",
    "Gamma = [0, 0]  # 0\n",
    "M = [np.pi / d, np.pi / d]  # 1\n",
    "X = [np.pi / d, 0]  # 2\n",
    "Y = [0, np.pi / d]  # 3\n",
    "order = [1, 0, 2, 1]  # Order of the symmetric points\n",
    "\n",
    "points = [Gamma, M, X, Y]\n",
    "names = [r'$\\Gamma$', r'$M$', r'$X$', r'$Y$']\n",
    "\n",
    "points_label = []\n",
    "points_site = []\n",
    "\n",
    "# Sort the symmetric points in the desired order\n",
    "for i in order:\n",
    "    points_label.append(names[i])\n",
    "    points_site.append(points[i])"
   ]
  },
  {
   "cell_type": "code",
   "execution_count": 37,
   "id": "2e08e401-5a9d-4042-843a-2b45783eb4d1",
   "metadata": {
    "execution": {
     "iopub.execute_input": "2022-02-05T16:40:14.395087Z",
     "iopub.status.busy": "2022-02-05T16:40:14.394413Z",
     "iopub.status.idle": "2022-02-05T16:40:14.421268Z",
     "shell.execute_reply": "2022-02-05T16:40:14.420780Z",
     "shell.execute_reply.started": "2022-02-05T16:40:14.395064Z"
    },
    "tags": []
   },
   "outputs": [],
   "source": [
    "n = 801  # Number of momentum to evalueate in each direction (total sites is N = n²)\n",
    "k_x = (np.arange(-n // 2, n // 2) + 1) / (n // 2) * np.pi / d\n",
    "k_x, k_y = [x.flatten() for x in np.meshgrid(k_x, k_x)]\n",
    "\n",
    "k = np.vstack((k_x, k_y)).transpose()  # Momentum at which compute the bands\n",
    "\n",
    "energy_TB = -2 * (np.cos(k_x) + np.cos(k_y)).reshape((n, n))"
   ]
  },
  {
   "cell_type": "code",
   "execution_count": 40,
   "id": "495033ef-3948-4356-a227-6e700239da7e",
   "metadata": {
    "execution": {
     "iopub.execute_input": "2022-02-05T16:40:31.927548Z",
     "iopub.status.busy": "2022-02-05T16:40:31.927295Z",
     "iopub.status.idle": "2022-02-05T17:27:51.304605Z",
     "shell.execute_reply": "2022-02-05T17:27:51.304055Z",
     "shell.execute_reply.started": "2022-02-05T16:40:31.927518Z"
    },
    "tags": []
   },
   "outputs": [
    {
     "data": {
      "application/vnd.jupyter.widget-view+json": {
       "model_id": "7559389dc620469c8a6e872b3f018e97",
       "version_major": 2,
       "version_minor": 0
      },
      "text/plain": [
       "Computing band structures:   0%|          | 0/100 [00:00<?, ?it/s]"
      ]
     },
     "metadata": {},
     "output_type": "display_data"
    }
   ],
   "source": [
    "n_lambda = 100\n",
    "lambda0_vec = d / np.linspace(0.1, 0.4, n_lambda)  # Wave-lenght of transition\n",
    "k0_vec = 2 * np.pi / lambda0_vec\n",
    "\n",
    "pbar = tqdm(range(n_lambda), desc='Computing band structures')\n",
    "results = Parallel(n_jobs=6, backend='multiprocessing')(\n",
    "    delayed(compute_energies)(b1, b2, A, nmax,\n",
    "                              k0_vec[i], aho, k, polarizations=polarizations) for i in pbar)"
   ]
  },
  {
   "cell_type": "code",
   "execution_count": 49,
   "id": "60fa5e22-ffb8-4d65-a170-b1487f065e9a",
   "metadata": {
    "execution": {
     "iopub.execute_input": "2022-02-05T17:38:09.631069Z",
     "iopub.status.busy": "2022-02-05T17:38:09.630907Z",
     "iopub.status.idle": "2022-02-05T17:41:48.438185Z",
     "shell.execute_reply": "2022-02-05T17:41:48.437680Z",
     "shell.execute_reply.started": "2022-02-05T17:38:09.631041Z"
    },
    "tags": []
   },
   "outputs": [],
   "source": [
    "J = np.zeros((n_lambda, n, n))\n",
    "energy_X = np.zeros(n_lambda)\n",
    "\n",
    "DoS = [None] * n_lambda\n",
    "DoS_X = np.zeros(n_lambda)\n",
    "\n",
    "limit_inf = -20\n",
    "limit_sup = 20\n",
    "\n",
    "for i in range(n_lambda):\n",
    "    J[i] = results[i][0].reshape((n, n))\n",
    "    energy_X[i] = J[i][n // 2, -1]\n",
    "    \n",
    "    energy, DoS_temp = dos_general(J[i], min_E=limit_inf, max_E=np.max(J[i]) * 1.1, args=[0.1])\n",
    "    DoS[i] = DoS_temp\n",
    "    \n",
    "    temp = np.abs(energy_X[i] - energy)\n",
    "    index = np.argmin(temp)\n",
    "    DoS_X[i] = DoS[i][index]"
   ]
  },
  {
   "cell_type": "code",
   "execution_count": 42,
   "id": "d6657a4d-08f0-4f8b-b27e-6a17167ecc57",
   "metadata": {
    "execution": {
     "iopub.execute_input": "2022-02-05T17:31:29.765232Z",
     "iopub.status.busy": "2022-02-05T17:31:29.765086Z",
     "iopub.status.idle": "2022-02-05T17:31:30.056133Z",
     "shell.execute_reply": "2022-02-05T17:31:30.055763Z",
     "shell.execute_reply.started": "2022-02-05T17:31:29.765217Z"
    },
    "tags": []
   },
   "outputs": [],
   "source": [
    "band_light = np.zeros((2, n_lambda))\n",
    "K = np.sqrt(k_x ** 2 + k_y ** 2).reshape((n, n))\n",
    "\n",
    "for i in range (n_lambda):\n",
    "    k0 = 2 * np.pi / lambda0_vec[i]\n",
    "    \n",
    "    # Energies inside the light cone\n",
    "    inside = np.where(K < k0)\n",
    "    \n",
    "    J_temp = J[i][inside]\n",
    "    \n",
    "    # Limits of the energies inside the light cone\n",
    "    band_light[0, i] = np.min(J_temp)\n",
    "    band_light[1, i] = np.max(J_temp)"
   ]
  },
  {
   "cell_type": "markdown",
   "id": "dffe4bd7-005e-4a91-b2df-d15850fed797",
   "metadata": {},
   "source": [
    "## Color maps"
   ]
  },
  {
   "cell_type": "code",
   "execution_count": 44,
   "id": "1df0feaf-a430-4f0f-8565-6c05aef29ddb",
   "metadata": {
    "execution": {
     "iopub.execute_input": "2022-02-05T17:31:30.297896Z",
     "iopub.status.busy": "2022-02-05T17:31:30.297753Z",
     "iopub.status.idle": "2022-02-05T17:31:30.635250Z",
     "shell.execute_reply": "2022-02-05T17:31:30.634875Z",
     "shell.execute_reply.started": "2022-02-05T17:31:30.297881Z"
    },
    "tags": []
   },
   "outputs": [
    {
     "data": {
      "image/png": "[encoded data removed]",
      "text/plain": [
       "<Figure size 432x288 with 3 Axes>"
      ]
     },
     "metadata": {
      "needs_background": "light"
     },
     "output_type": "display_data"
    }
   ],
   "source": [
    "lambda_targets = [1 / 0.22, 1 / 0.31, 1 / 0.39]\n",
    "indices = [np.argmin(np.abs(lambda_target - lambda0_vec) ** 2) for lambda_target in lambda_targets]\n",
    "\n",
    "fig, axs = plt.subplots(1, len(lambda_targets), sharey=True, sharex=True)\n",
    "\n",
    "limit_inf = -2\n",
    "limit_sup = 1.5\n",
    "\n",
    "for i in range(len(indices)):\n",
    "    J_plot = J[indices[i]]\n",
    "    ax = axs[i]\n",
    "    im = ax.imshow(J_plot, extent=(-1, 1, -1, 1), vmin=limit_inf, vmax=limit_sup, origin='lower')\n",
    "    contours = ax.contour(k_x.reshape((n, n)) / np.pi, k_y.reshape((n, n)) / np.pi, J_plot,\n",
    "                                     [J_plot[n // 2, -1]], colors='w', linewidths=1.5, linestyles='-')\n",
    "    ax.set_title(r'$a/\\lambda_0 = {:.2f}$'.format(1 / lambda0_vec[indices[i]]))\n",
    "axs[0].set_ylabel(r'$k_y d / \\pi$')\n",
    "for ax in axs:\n",
    "    ax.set_xlabel(r'$k_x d / \\pi$')    \n",
    "\n",
    "fig.tight_layout()"
   ]
  },
  {
   "cell_type": "markdown",
   "id": "9c59afb1-47ea-404d-8327-d1f2cbf49af1",
   "metadata": {
    "execution": {
     "iopub.execute_input": "2022-02-05T15:28:23.205059Z",
     "iopub.status.busy": "2022-02-05T15:28:23.204823Z",
     "iopub.status.idle": "2022-02-05T15:28:23.209717Z",
     "shell.execute_reply": "2022-02-05T15:28:23.209148Z",
     "shell.execute_reply.started": "2022-02-05T15:28:23.205039Z"
    },
    "tags": []
   },
   "source": [
    "## Optimal distance"
   ]
  },
  {
   "cell_type": "code",
   "execution_count": 45,
   "id": "ab271917-7b76-4403-94c1-39359662a0f6",
   "metadata": {
    "execution": {
     "iopub.execute_input": "2022-02-05T17:31:30.636038Z",
     "iopub.status.busy": "2022-02-05T17:31:30.635851Z",
     "iopub.status.idle": "2022-02-05T17:31:33.955500Z",
     "shell.execute_reply": "2022-02-05T17:31:33.955077Z",
     "shell.execute_reply.started": "2022-02-05T17:31:30.636022Z"
    },
    "tags": []
   },
   "outputs": [
    {
     "data": {
      "application/vnd.jupyter.widget-view+json": {
       "model_id": "a5a917e4ead144f3848bbbe97ba08398",
       "version_major": 2,
       "version_minor": 0
      },
      "text/plain": [
       "  0%|          | 0/100 [00:00<?, ?it/s]"
      ]
     },
     "metadata": {},
     "output_type": "display_data"
    }
   ],
   "source": [
    "fig, ax = plt.subplots()\n",
    "\n",
    "x, y = [], []\n",
    "\n",
    "cs = ax.contour(k_y.reshape((n, n)) / np.pi * d, k_x.reshape((n, n)) / np.pi * d,\n",
    "                energy_TB, [0], colors=['white'], linestyles='--', linewidths =0.7)\n",
    "\n",
    "p = cs.collections[0].get_paths()[0]\n",
    "v = p.vertices\n",
    "x.append(v[:,0])\n",
    "y.append(v[:,1])\n",
    "\n",
    "pbar = tqdm(total=n_lambda)\n",
    "x_vec = np.linspace(-1, 1, n)\n",
    "\n",
    "# Collect the isofrecuencies for each value of the optical transition\n",
    "for i in range(n_lambda):\n",
    "    ax.clear()\n",
    "    \n",
    "    J_plot = J[i]\n",
    "    cs = ax.contour(x_vec, x_vec, J_plot, [J_plot[n // 2, 0]],\n",
    "                    colors=['white'], linestyles='--', linewidths=0.7)\n",
    "    \n",
    "    p = cs.collections[0].get_paths()[0]\n",
    "    v = p.vertices\n",
    "    x_temp = v[:,0]\n",
    "    y_temp = v[:,1]\n",
    "    \n",
    "    # Only focuss on the upper left quadrant\n",
    "    x_temp[np.where(x_temp > 0)] *= -1\n",
    "    \n",
    "    mask = np.where(y_temp >= 0)\n",
    "    x_temp = x_temp[mask]\n",
    "    y_temp = y_temp[mask]\n",
    "    \n",
    "    mask = np.where(x_temp <= -0.5)\n",
    "    x_temp = x_temp[mask]\n",
    "    y_temp = y_temp[mask]\n",
    "    \n",
    "    x.append(x_temp)\n",
    "    y.append(y_temp)\n",
    "    \n",
    "    pbar.update()\n",
    "pbar.close()\n",
    "ax.clear()\n",
    "plt.close(fig)"
   ]
  },
  {
   "cell_type": "code",
   "execution_count": 46,
   "id": "7adf2859-bcd0-47d6-bddb-ad233fe9a08f",
   "metadata": {
    "execution": {
     "iopub.execute_input": "2022-02-05T17:31:33.956111Z",
     "iopub.status.busy": "2022-02-05T17:31:33.956006Z",
     "iopub.status.idle": "2022-02-05T17:31:33.993634Z",
     "shell.execute_reply": "2022-02-05T17:31:33.993203Z",
     "shell.execute_reply.started": "2022-02-05T17:31:33.956096Z"
    },
    "tags": []
   },
   "outputs": [],
   "source": [
    "error = np.ones(len(x) - 1) * np.nan\n",
    "n_step = 1000\n",
    "target = lambda x: x + 1\n",
    "\n",
    "errors = []\n",
    "window = 10\n",
    "tolerance = 0.1\n",
    "\n",
    "for i in range(1, len(x)):\n",
    "    x_temp = x[i]\n",
    "    y_temp = y[i]\n",
    "    \n",
    "    try:\n",
    "        index_cut = 0\n",
    "        for j in range(len(y_temp) - window):\n",
    "            if (y_temp[j] > y_temp[j + window]):\n",
    "                index_cut = j\n",
    "                break\n",
    "        \n",
    "        # Interpolate the isofrequency to increase the number of points\n",
    "        # Some errors can raise when duplicate x points exhist due to the method\n",
    "        # used for the extraction of the isofrequencies.\n",
    "        \n",
    "        func = interp1d(x_temp[index_cut:], y_temp[index_cut:], kind='cubic')\n",
    "        x_test = np.linspace(min(x_temp), max(x_temp), n_step)\n",
    "        error[i - 1] = np.sqrt(np.sum((func(x_test) - target(x_test)) ** 2))\n",
    "        \n",
    "    except:\n",
    "        errors.append(i)"
   ]
  },
  {
   "cell_type": "code",
   "execution_count": 47,
   "id": "9434abec-1f73-4fe2-b236-ca4f9d09bc72",
   "metadata": {
    "execution": {
     "iopub.execute_input": "2022-02-05T17:31:33.994308Z",
     "iopub.status.busy": "2022-02-05T17:31:33.994170Z",
     "iopub.status.idle": "2022-02-05T17:31:34.097145Z",
     "shell.execute_reply": "2022-02-05T17:31:34.096760Z",
     "shell.execute_reply.started": "2022-02-05T17:31:33.994293Z"
    },
    "tags": []
   },
   "outputs": [
    {
     "name": "stdout",
     "output_type": "stream",
     "text": [
      "Minimum error with lambda/a = 0.3060606060606061\n"
     ]
    },
    {
     "data": {
      "image/png": "[encoded data removed]",
      "text/plain": [
       "<Figure size 432x288 with 1 Axes>"
      ]
     },
     "metadata": {
      "needs_background": "light"
     },
     "output_type": "display_data"
    }
   ],
   "source": [
    "fig, ax = plt.subplots()\n",
    "\n",
    "ax.plot(1 / lambda0_vec, error, 'k')\n",
    "\n",
    "ax.set_xlim(min(1 / lambda0_vec), max(1 / lambda0_vec))\n",
    "ax.set_ylim(0, max(error))\n",
    "\n",
    "ax.set_xlabel(r'$d/\\lambda_0$')\n",
    "ax.set_ylabel(r'$\\Delta$')\n",
    "\n",
    "index_min = np.nanargmin(error)\n",
    "print('Minimum error with d/lambda = {}'.format(1 / lambda0_vec[index_min]))"
   ]
  },
  {
   "cell_type": "markdown",
   "id": "0d8b335d-211d-4bc6-a88c-fd06886c7084",
   "metadata": {},
   "source": [
    "## Van Hove singularity"
   ]
  },
  {
   "cell_type": "code",
   "execution_count": 50,
   "id": "a9e8b8bf-345a-4b82-9b0c-47860c5e68ce",
   "metadata": {
    "execution": {
     "iopub.execute_input": "2022-02-05T17:41:50.536325Z",
     "iopub.status.busy": "2022-02-05T17:41:50.536150Z",
     "iopub.status.idle": "2022-02-05T17:41:50.771545Z",
     "shell.execute_reply": "2022-02-05T17:41:50.771063Z",
     "shell.execute_reply.started": "2022-02-05T17:41:50.536309Z"
    },
    "tags": []
   },
   "outputs": [
    {
     "data": {
      "image/png": "[encoded data removed]",
      "text/plain": [
       "<Figure size 432x288 with 2 Axes>"
      ]
     },
     "metadata": {
      "needs_background": "light"
     },
     "output_type": "display_data"
    }
   ],
   "source": [
    "fig, ax = plt.subplots()\n",
    "\n",
    "ax.plot(1 / lambda0_vec, energy_X, 'k')\n",
    "ax.set_xlabel(r'$d/\\lambda_0$')\n",
    "ax.set_ylabel(r'$(\\omega_{\\mathbf{k}=X}-\\omega_0)/\\Gamma_0$')\n",
    "ax.set_ylim(-14, 2)\n",
    "\n",
    "ax.fill_between(1 / lambda0_vec, band_light[0], band_light[1],\n",
    "                     color='grey', lw=0, alpha=0.2)\n",
    "\n",
    "ax2 = ax.twinx()\n",
    "ax2.plot(1 / lambda0_vec, DoS_X / np.max(DoS_X), 'r.')\n",
    "\n",
    "ax2.set_ylabel(r'$DoS(\\mathbf{k} = X)$ [a.u.]')\n",
    "ax2.spines['right'].set_color('r')\n",
    "ax2.tick_params(axis='y', colors='r', which='both')\n",
    "ax2.yaxis.label.set_color('r')\n",
    "\n",
    "ax.set_zorder(1)  # default zorder is 0 for ax1 and ax2\n",
    "ax.patch.set_visible(False)  # prevents ax1 from hiding ax2\n",
    "ax.set_xlim(min(1 / lambda0_vec), max(1 / lambda0_vec))\n",
    "ax2.set_ylim([0, 1.1]);"
   ]
  }
 ],
 "metadata": {
  "kernelspec": {
   "display_name": "Python 3",
   "language": "python",
   "name": "python3"
  },
  "language_info": {
   "codemirror_mode": {
    "name": "ipython",
    "version": 3
   },
   "file_extension": ".py",
   "mimetype": "text/x-python",
   "name": "python",
   "nbconvert_exporter": "python",
   "pygments_lexer": "ipython3",
   "version": "3.8.8"
  }
 },
 "nbformat": 4,
 "nbformat_minor": 5
}
