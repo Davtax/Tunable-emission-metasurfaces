{
 "cells": [
  {
   "cell_type": "markdown",
   "id": "77f428f0-d341-4845-b567-be46fdf1032a",
   "metadata": {},
   "source": [
    "# Code for Fig. SM5"
   ]
  },
  {
   "cell_type": "code",
   "execution_count": 1,
   "id": "f37c11c6-07e3-4250-8ad6-71411b3148b5",
   "metadata": {
    "execution": {
     "iopub.execute_input": "2022-02-07T16:05:59.080884Z",
     "iopub.status.busy": "2022-02-07T16:05:59.080340Z",
     "iopub.status.idle": "2022-02-07T16:06:00.146657Z",
     "shell.execute_reply": "2022-02-07T16:06:00.144730Z",
     "shell.execute_reply.started": "2022-02-07T16:05:59.080818Z"
    },
    "tags": []
   },
   "outputs": [],
   "source": [
    "%load_ext autoreload\n",
    "%autoreload 1\n",
    "%aimport general_functions"
   ]
  },
  {
   "cell_type": "code",
   "execution_count": 2,
   "id": "09d458ec-8034-4adf-a118-4f59dd367cae",
   "metadata": {
    "execution": {
     "iopub.execute_input": "2022-02-07T16:06:00.161456Z",
     "iopub.status.busy": "2022-02-07T16:06:00.161297Z",
     "iopub.status.idle": "2022-02-07T16:06:00.185665Z",
     "shell.execute_reply": "2022-02-07T16:06:00.185296Z",
     "shell.execute_reply.started": "2022-02-07T16:06:00.161429Z"
    },
    "tags": []
   },
   "outputs": [],
   "source": [
    "import numpy as np\n",
    "import matplotlib.pyplot as plt\n",
    "from tqdm.auto import tqdm\n",
    "from joblib import Parallel, delayed\n",
    "\n",
    "from general_functions import (compute_energies, purcell_factor, complete_dynamics,\n",
    "                               g0_fun, compute_shift)"
   ]
  },
  {
   "cell_type": "markdown",
   "id": "d29ff92b-ac02-4eb4-b766-8840ec2a2066",
   "metadata": {},
   "source": [
    "## Single impurity (a)"
   ]
  },
  {
   "cell_type": "markdown",
   "id": "8d5f3661-8a29-4657-864b-8de747506c88",
   "metadata": {},
   "source": [
    "### Analytical"
   ]
  },
  {
   "cell_type": "code",
   "execution_count": 17,
   "id": "ed532075-7e85-42d6-ac95-30dfbf0e7de2",
   "metadata": {
    "execution": {
     "iopub.execute_input": "2022-02-07T17:50:50.073762Z",
     "iopub.status.busy": "2022-02-07T17:50:50.073195Z",
     "iopub.status.idle": "2022-02-07T17:50:50.090992Z",
     "shell.execute_reply": "2022-02-07T17:50:50.090549Z",
     "shell.execute_reply.started": "2022-02-07T17:50:50.073692Z"
    },
    "tags": []
   },
   "outputs": [],
   "source": [
    "pol_lat = np.array([[0, 1, 0]]).T\n",
    "pol_emi = np.array([[1, 1, 0]]).T / np.sqrt(2)\n",
    "\n",
    "d = 1\n",
    "lambda0 = d / 0.3\n",
    "k0 = 2 * np.pi / lambda0\n",
    "aho = 0.1 * d\n",
    "\n",
    "n = 2 ** 10 + 1\n",
    "nmax = 9\n",
    "\n",
    "b1 = 2 * np.pi / d * np.array([1, 0])\n",
    "b2 = 2 * np.pi / d * np.array([0, 1])\n",
    "A = d ** 2\n",
    "\n",
    "G0 = g0_fun(k0, aho)\n",
    "\n",
    "k_x = np.linspace(-np.pi, np.pi, n) / d\n",
    "k_X, k_Y = np.meshgrid(k_x, k_x)\n",
    "\n",
    "k = np.vstack((k_X.flatten(), k_Y.flatten())).T\n",
    "\n",
    "x = np.arange(0, n) - n / 2 + d / 2\n",
    "y = np.arange(0, n) - n / 2 + d / 2\n",
    "x, y = np.meshgrid(x, y)\n",
    "z = np.zeros((n, n))\n",
    "r_lat = [x, y, z]"
   ]
  },
  {
   "cell_type": "code",
   "execution_count": 18,
   "id": "ff877fe3-f4e6-4073-bd47-4aeeb373a7c6",
   "metadata": {
    "execution": {
     "iopub.execute_input": "2022-02-07T17:50:50.709977Z",
     "iopub.status.busy": "2022-02-07T17:50:50.709441Z",
     "iopub.status.idle": "2022-02-07T17:53:41.284099Z",
     "shell.execute_reply": "2022-02-07T17:53:41.283687Z",
     "shell.execute_reply.started": "2022-02-07T17:50:50.709910Z"
    },
    "tags": []
   },
   "outputs": [],
   "source": [
    "J, Gamma = compute_energies(b1, b2, A, nmax, k0, aho, k, G0=G0, polarizations=[pol_lat])\n",
    "omega_k = (J - 0.5j * Gamma).reshape(n, n)\n",
    "\n",
    "omega_q = np.real(omega_k).reshape(n, n)[n // 2, -1]"
   ]
  },
  {
   "cell_type": "code",
   "execution_count": 27,
   "id": "db6df6ed-e699-4bec-bcb5-399762e06c15",
   "metadata": {
    "execution": {
     "iopub.execute_input": "2022-02-07T18:30:56.965064Z",
     "iopub.status.busy": "2022-02-07T18:30:56.964840Z",
     "iopub.status.idle": "2022-02-07T18:30:56.969976Z",
     "shell.execute_reply": "2022-02-07T18:30:56.969464Z",
     "shell.execute_reply.started": "2022-02-07T18:30:56.965040Z"
    },
    "tags": []
   },
   "outputs": [],
   "source": [
    "n_pos = 100  # Number of points\n",
    "\n",
    "# The emitter is located in the diagonal (y = -x), and moves from the center\n",
    "# of a plaquette up a distance of 0.5d from the center.\n",
    "\n",
    "x_vector = -np.linspace(0.146, 0.5, n_pos) * d\n",
    "y_vector = np.linspace(0.146, 0.5, n_pos) * d\n",
    "z_vector = np.zeros(n_pos)\n",
    "\n",
    "# Distance to the center of the plaquette. [Note that there is a array dipole at (0, 0)]\n",
    "x_axis_vector_analytical = np.sqrt((x_vector[::-1] - x_vector[0]) ** 2 +\n",
    "                                    (y_vector[::-1] - y_vector[0]) ** 2)\n",
    "\n",
    "r_emi_vector = np.array([x_vector, y_vector, z_vector])"
   ]
  },
  {
   "cell_type": "code",
   "execution_count": 28,
   "id": "1c8d16d0-1bff-422a-87dd-c45af367c906",
   "metadata": {
    "execution": {
     "iopub.execute_input": "2022-02-07T18:30:58.008749Z",
     "iopub.status.busy": "2022-02-07T18:30:58.008356Z",
     "iopub.status.idle": "2022-02-07T18:31:54.735069Z",
     "shell.execute_reply": "2022-02-07T18:31:54.734555Z",
     "shell.execute_reply.started": "2022-02-07T18:30:58.008731Z"
    },
    "tags": []
   },
   "outputs": [
    {
     "data": {
      "application/vnd.jupyter.widget-view+json": {
       "model_id": "0e8dec4d78bf46cb83b97b239283e23a",
       "version_major": 2,
       "version_minor": 0
      },
      "text/plain": [
       "Computing Purcell:   0%|          | 0/100 [00:00<?, ?it/s]"
      ]
     },
     "metadata": {},
     "output_type": "display_data"
    }
   ],
   "source": [
    "pbar = tqdm(range(n_pos), desc='Computing Purcell')\n",
    "results = Parallel(n_jobs=-1, backend='multiprocessing')(\n",
    "    delayed(purcell_factor)(r_lat, r_emi_vector[:, j], [k_X, k_Y],\n",
    "                            omega_k, omega_q, k0, pol_lat, pol_emi) for j in pbar)\n",
    "\n",
    "results = np.array(results)\n",
    "optical_depth = results[:, 1] / results[:, 0]"
   ]
  },
  {
   "cell_type": "markdown",
   "id": "e4fc198c-ea97-401b-9832-a48785077bc1",
   "metadata": {
    "tags": []
   },
   "source": [
    "### Numerical"
   ]
  },
  {
   "cell_type": "code",
   "execution_count": 21,
   "id": "f619725d-9816-4a54-b0fd-b8260aa17d2e",
   "metadata": {
    "execution": {
     "iopub.execute_input": "2022-02-07T17:57:45.681161Z",
     "iopub.status.busy": "2022-02-07T17:57:45.680982Z",
     "iopub.status.idle": "2022-02-07T17:57:45.686057Z",
     "shell.execute_reply": "2022-02-07T17:57:45.685749Z",
     "shell.execute_reply.started": "2022-02-07T17:57:45.681133Z"
    },
    "tags": []
   },
   "outputs": [],
   "source": [
    "border = 15\n",
    "max_gamma = 15\n",
    "\n",
    "N_x = 60\n",
    "N_y = N_x\n",
    "x_pos = np.arange(0, N_x) - N_x / 2 + d / 2\n",
    "y_pos = np.arange(0, N_y) - N_y / 2 + d / 2\n",
    "x_pos, y_pos = np.meshgrid(x_pos, y_pos)\n",
    "x_pos = x_pos.flatten()\n",
    "y_pos = y_pos.flatten()\n",
    "z_pos = np.zeros(len(x_pos))\n",
    "r_pos = [x_pos, y_pos, z_pos]\n",
    "\n",
    "gamma_emi = 0.002\n",
    "omega_emi = -0.999  # For d / lambda_0 = 0.3\n",
    "\n",
    "dt = 2e-3 / gamma_emi\n",
    "tf = dt * 2 ** 10\n",
    "\n",
    "psi0 = np.zeros(len(x_pos) + 1)\n",
    "psi0[-1] = 1"
   ]
  },
  {
   "cell_type": "code",
   "execution_count": 24,
   "id": "1f2fef8e-f51d-4509-8610-e60a904739f0",
   "metadata": {
    "execution": {
     "iopub.execute_input": "2022-02-07T18:02:57.202257Z",
     "iopub.status.busy": "2022-02-07T18:02:57.201736Z",
     "iopub.status.idle": "2022-02-07T18:29:45.208482Z",
     "shell.execute_reply": "2022-02-07T18:29:45.207977Z",
     "shell.execute_reply.started": "2022-02-07T18:02:57.202191Z"
    },
    "tags": []
   },
   "outputs": [
    {
     "data": {
      "application/vnd.jupyter.widget-view+json": {
       "model_id": "b2d06a59d6f844a886c701de16f6334b",
       "version_major": 2,
       "version_minor": 0
      },
      "text/plain": [
       "Computing dynamics:   0%|          | 0/20 [00:00<?, ?it/s]"
      ]
     },
     "metadata": {},
     "output_type": "display_data"
    }
   ],
   "source": [
    "n_pos = 20\n",
    "purcell_numerical = np.zeros(n_pos)\n",
    "\n",
    "x_vector = np.linspace(0, 0.5, n_pos) * d / np.sqrt(2)\n",
    "y_vector = -np.linspace(0, 0.5, n_pos) * d / np.sqrt(2)\n",
    "z_vector = np.zeros(n_pos)\n",
    "\n",
    "x_axis_vector_numerical = np.sqrt(x_vector ** 2 + y_vector ** 2)\n",
    "\n",
    "r_emi_vector = np.array([x_vector, y_vector, z_vector])\n",
    "\n",
    "pbar = tqdm(total=n_pos, desc='Computing dynamics')\n",
    "for i in range(n_pos):\n",
    "    emitter = [r_emi_vector[:, i]]\n",
    "    \n",
    "    results = complete_dynamics(r_pos, k0, pol_lat, dt, tf, psi0, N_x, N_y, emitter, [pol_emi], gamma_emi,\n",
    "                      omega_emi, border, max_gamma=max_gamma)\n",
    "    \n",
    "    purcell_numerical[i] = results['Q_n'][-1]\n",
    "    \n",
    "    pbar.update()    \n",
    "pbar.close()"
   ]
  },
  {
   "cell_type": "code",
   "execution_count": 30,
   "id": "b6f572c0-9fcb-49db-ae55-e2e4945051c1",
   "metadata": {
    "execution": {
     "iopub.execute_input": "2022-02-07T18:31:54.874378Z",
     "iopub.status.busy": "2022-02-07T18:31:54.874212Z",
     "iopub.status.idle": "2022-02-07T18:31:54.973998Z",
     "shell.execute_reply": "2022-02-07T18:31:54.973553Z",
     "shell.execute_reply.started": "2022-02-07T18:31:54.874361Z"
    },
    "tags": []
   },
   "outputs": [
    {
     "data": {
      "image/png": "[encoded data removed]",
      "text/plain": [
       "<Figure size 432x288 with 1 Axes>"
      ]
     },
     "metadata": {
      "needs_background": "light"
     },
     "output_type": "display_data"
    }
   ],
   "source": [
    "fig, ax = plt.subplots()\n",
    "ax.plot(x_axis_vector_analytical, optical_depth, 'k', label='semi-analytically')\n",
    "ax.plot(x_axis_vector_numerical, purcell_numerical, 'r.', label='numerical')\n",
    "\n",
    "ax.set_xlim(0, 0.5)\n",
    "ax.legend()\n",
    "ax.set_xlabel(r'$r/d$')\n",
    "ax.set_ylabel(r'$P$');"
   ]
  },
  {
   "cell_type": "markdown",
   "id": "26039d82-5fa3-4d23-861b-e99655f32d76",
   "metadata": {
    "tags": []
   },
   "source": [
    "## Cluster (b-c)"
   ]
  },
  {
   "cell_type": "code",
   "execution_count": 49,
   "id": "7bb35cdf-27d5-4949-96f7-f7db22183ba2",
   "metadata": {
    "execution": {
     "iopub.execute_input": "2022-02-07T23:48:26.929768Z",
     "iopub.status.busy": "2022-02-07T23:48:26.929538Z",
     "iopub.status.idle": "2022-02-07T23:48:26.936582Z",
     "shell.execute_reply": "2022-02-07T23:48:26.936164Z",
     "shell.execute_reply.started": "2022-02-07T23:48:26.929747Z"
    },
    "tags": []
   },
   "outputs": [],
   "source": [
    "pol_lat = np.array([[0, 1, 0]]).T\n",
    "pol_emi = [np.array([[1, 1, 0]]).T / np.sqrt(2)] * 2\n",
    "\n",
    "d = 1 # Wave-lenght of transition\n",
    "lambda0 = d / 0.3 # Wave-lenght of transition\n",
    "k0 = 2 * np.pi / lambda0\n",
    "\n",
    "border = 15 # Border of adiabatic lossees\n",
    "max_gamma = 15  # Maximum individual free space decay rate in the border\n",
    "r_circles = np.arange(border, border + 5)\n",
    "\n",
    "N_x = 60\n",
    "N_y = N_x\n",
    "x_pos = (np.arange(0, N_x) - N_x / 2 + d / 2)\n",
    "y_pos = (np.arange(0, N_y) - N_y / 2 + d / 2)\n",
    "x_pos, y_pos = [x.flatten() for x in np.meshgrid(x_pos, y_pos)]\n",
    "z_pos = np.zeros(np.shape(x_pos))\n",
    "\n",
    "gamma_emi = 0.002\n",
    "omega_emi = -0.999  # For d / lambda_0 = 0.3\n",
    "\n",
    "n_e = len(pol_emi)\n",
    "signs = [1, -1]  # The emitters are initialized in the anti-symmetric state\n",
    "psi0 = np.zeros(N_x * N_y + n_e, dtype=complex)\n",
    "for i in range(n_e):\n",
    "    psi0[-i - 1] = signs[i] / np.sqrt(n_e)\n",
    "    \n",
    "dt = 2e-3 / gamma_emi\n",
    "tf = dt * 2 ** 12"
   ]
  },
  {
   "cell_type": "code",
   "execution_count": null,
   "id": "bc31224e-ecd2-4b93-9d70-3788680e82a0",
   "metadata": {
    "execution": {
     "iopub.execute_input": "2022-02-07T23:52:25.464326Z",
     "iopub.status.busy": "2022-02-07T23:52:25.464191Z"
    },
    "tags": []
   },
   "outputs": [
    {
     "data": {
      "application/vnd.jupyter.widget-view+json": {
       "model_id": "5e165b5cde944860be32a6409854e4ff",
       "version_major": 2,
       "version_minor": 0
      },
      "text/plain": [
       "Computing dynamics:   0%|          | 0/100 [00:00<?, ?it/s]"
      ]
     },
     "metadata": {},
     "output_type": "display_data"
    }
   ],
   "source": [
    "n_dc = 100\n",
    "dc_vector = np.linspace(0.01, 0.5, n_dc) * d\n",
    "\n",
    "purcell_numerical = np.zeros(n_dc)\n",
    "real_space_emission = np.zeros((n_dc, N_y, N_x))\n",
    "chi_1D = np.zeros(n_dc)\n",
    "\n",
    "pbar = tqdm(total=n_dc, desc='Computing dynamics')\n",
    "for i in range(n_dc - 1, -1, -1):\n",
    "    emitter = [[dc_vector[i] / np.sqrt(2), -dc_vector[i] / np.sqrt(2), 0],\n",
    "               [-dc_vector[i] / np.sqrt(2), dc_vector[i] / np.sqrt(2), 0]]\n",
    "    \n",
    "    shift = compute_shift(emitter[0], emitter[1], pol_emi[0], pol_emi[1], k0, gamma_emi, psi0[-2:])\n",
    "    \n",
    "    results = complete_dynamics([x_pos, y_pos, z_pos], k0, pol_lat, dt, tf, psi0, N_x, N_y, emitter, \n",
    "                                pol_emi, gamma_emi,omega_emi - np.real(shift), border,\n",
    "                                max_gamma=max_gamma, r_circles=r_circles,\n",
    "                                verify=True)\n",
    "    \n",
    "    purcell_numerical[i] = results['Q_n'][-1]\n",
    "    chi_1D[i] = np.average(results['chirality'])\n",
    "    \n",
    "    dt = results['time'][1]\n",
    "    tf = results['time'][-1]\n",
    "    \n",
    "    population = np.abs(results['psi'][:, :-n_e].reshape((-1, N_y, N_x))) ** 2\n",
    "    index_max = np.argmax(np.sum(population, axis=(1, 2)))\n",
    "    real_space_emission[i] = population[index_max]\n",
    "    \n",
    "    pbar.update()    \n",
    "pbar.close()"
   ]
  },
  {
   "cell_type": "code",
   "execution_count": 58,
   "id": "401473de-cea8-4591-85e2-3ac3fa5a264e",
   "metadata": {
    "execution": {
     "iopub.execute_input": "2022-02-08T07:12:44.947556Z",
     "iopub.status.busy": "2022-02-08T07:12:44.946995Z",
     "iopub.status.idle": "2022-02-08T07:12:45.085584Z",
     "shell.execute_reply": "2022-02-08T07:12:45.085069Z",
     "shell.execute_reply.started": "2022-02-08T07:12:44.947488Z"
    },
    "tags": []
   },
   "outputs": [
    {
     "data": {
      "image/png": "[encoded data removed]",
      "text/plain": [
       "<Figure size 432x288 with 1 Axes>"
      ]
     },
     "metadata": {
      "needs_background": "light"
     },
     "output_type": "display_data"
    }
   ],
   "source": [
    "P_0 = 1.193\n",
    "\n",
    "fig, ax = plt.subplots()\n",
    "ax.plot(dc_vector, purcell_numerical / P_0, 'g--')\n",
    "\n",
    "ax.set_xlim(min(dc_vector), max(dc_vector))\n",
    "\n",
    "ax.set_yscale('log')\n",
    "ax.set_xlabel(r'$d_c/d$')\n",
    "ax.set_ylabel(r'$P_n$');"
   ]
  },
  {
   "cell_type": "code",
   "execution_count": 59,
   "id": "790de200-2917-4f40-881b-fe3312944d25",
   "metadata": {
    "execution": {
     "iopub.execute_input": "2022-02-08T07:12:49.349556Z",
     "iopub.status.busy": "2022-02-08T07:12:49.348999Z",
     "iopub.status.idle": "2022-02-08T07:12:49.420815Z",
     "shell.execute_reply": "2022-02-08T07:12:49.420438Z",
     "shell.execute_reply.started": "2022-02-08T07:12:49.349489Z"
    },
    "tags": []
   },
   "outputs": [
    {
     "data": {
      "image/png": "[encoded data removed]",
      "text/plain": [
       "<Figure size 432x288 with 1 Axes>"
      ]
     },
     "metadata": {
      "needs_background": "light"
     },
     "output_type": "display_data"
    }
   ],
   "source": [
    "fig, ax = plt.subplots()\n",
    "ax.plot(dc_vector, chi_1D, 'g--')\n",
    "\n",
    "ax.set_xlim(min(dc_vector), max(dc_vector))\n",
    "\n",
    "ax.set_ylim(0, 1)\n",
    "ax.set_xlabel(r'$d_c/d$')\n",
    "ax.set_ylabel(r'$\\chi_\\mathrm{1D}$');"
   ]
  },
  {
   "cell_type": "code",
   "execution_count": 60,
   "id": "1420bd3c-5135-4ead-b0e9-013b29c1e686",
   "metadata": {
    "execution": {
     "iopub.execute_input": "2022-02-08T07:12:51.872105Z",
     "iopub.status.busy": "2022-02-08T07:12:51.871586Z",
     "iopub.status.idle": "2022-02-08T07:12:51.932625Z",
     "shell.execute_reply": "2022-02-08T07:12:51.932236Z",
     "shell.execute_reply.started": "2022-02-08T07:12:51.872040Z"
    },
    "tags": []
   },
   "outputs": [
    {
     "name": "stdout",
     "output_type": "stream",
     "text": [
      "The value of d_c / d = 0.451\n"
     ]
    },
    {
     "data": {
      "image/png": "[encoded data removed]",
      "text/plain": [
       "<Figure size 432x288 with 1 Axes>"
      ]
     },
     "metadata": {
      "needs_background": "light"
     },
     "output_type": "display_data"
    }
   ],
   "source": [
    "dc_target = 0.45\n",
    "index = np.argmin(np.abs(dc_target - dc_vector))\n",
    "print('The value of d_c / d = {:.3f}'.format(dc_vector[index]))\n",
    "\n",
    "fig, ax = plt.subplots()\n",
    "ax.imshow(real_space_emission[index], origin='lower', aspect='equal', cmap='jet',\n",
    "          extent=[min(x_pos), max(x_pos), min(y_pos), max(y_pos)], vmin=0)\n",
    "\n",
    "ax.set_xlabel('x/d')\n",
    "ax.set_ylabel('y/d');"
   ]
  }
 ],
 "metadata": {
  "kernelspec": {
   "display_name": "Python 3",
   "language": "python",
   "name": "python3"
  },
  "language_info": {
   "codemirror_mode": {
    "name": "ipython",
    "version": 3
   },
   "file_extension": ".py",
   "mimetype": "text/x-python",
   "name": "python",
   "nbconvert_exporter": "python",
   "pygments_lexer": "ipython3",
   "version": "3.8.8"
  }
 },
 "nbformat": 4,
 "nbformat_minor": 5
}
